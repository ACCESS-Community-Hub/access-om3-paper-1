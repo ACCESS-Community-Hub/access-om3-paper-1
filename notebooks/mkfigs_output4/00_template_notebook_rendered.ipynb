{
 "cells": [
  {
   "cell_type": "markdown",
   "id": "c16fc5c3",
   "metadata": {
    "tags": [
     "papermill-error-cell-tag"
    ]
   },
   "source": [
    "<span style=\"color:red; font-family:Helvetica Neue, Helvetica, Arial, sans-serif; font-size:2em;\">An Exception was encountered at '<a href=\"#papermill-error-cell\">In [9]</a>'.</span>"
   ]
  },
  {
   "cell_type": "markdown",
   "id": "3958e585-7914-428d-b6ea-915dc3f255f5",
   "metadata": {
    "editable": true,
    "papermill": {
     "duration": 0.010881,
     "end_time": "2025-10-30T00:22:39.360392",
     "exception": false,
     "start_time": "2025-10-30T00:22:39.349511",
     "status": "completed"
    },
    "slideshow": {
     "slide_type": ""
    },
    "tags": []
   },
   "source": [
    "# Finding/opening ACCESS-OM3 `MC_25km_jra_ryf-1.0-beta` test run output using intake\n",
    "\n",
    "This notebook demonstrates how to using intake-esm to find and load data data from the ACCESS-OM3 `MC_25km_jra_ryf-1.0-beta` test run.\n",
    "\n",
    "For more information about using intake-esm to find and load data, see:\n",
    "- the [intake-esm documentation](https://intake-esm.readthedocs.io/en/stable/)\n",
    "- [this section](https://access-nri-intake-catalog.readthedocs.io/en/latest/usage/quickstart.html#using-an-intake-esm-datastore) of the access-nri-intake-catalog documentation"
   ]
  },
  {
   "cell_type": "code",
   "execution_count": 1,
   "id": "c45c4dcc-84e9-4471-b374-4758e4b59fe3",
   "metadata": {
    "editable": true,
    "execution": {
     "iopub.execute_input": "2025-10-30T00:22:39.376908Z",
     "iopub.status.busy": "2025-10-30T00:22:39.376372Z",
     "iopub.status.idle": "2025-10-30T00:22:40.483278Z",
     "shell.execute_reply": "2025-10-30T00:22:40.481813Z"
    },
    "papermill": {
     "duration": 1.11544,
     "end_time": "2025-10-30T00:22:40.484313",
     "exception": false,
     "start_time": "2025-10-30T00:22:39.368873",
     "status": "completed"
    },
    "slideshow": {
     "slide_type": ""
    },
    "tags": [
     "parameters"
    ]
   },
   "outputs": [
    {
     "name": "stdout",
     "output_type": "stream",
     "text": [
      "ESM datastore path:  /g/data/ol01/access-om3-output/access-om3-025/MC_25km_jra_ryf-1.0-beta/experiment_datastore.json\n",
      "Plot folder path:  /g/data/tm70/cyb561/access-om3-paper-figs/\n"
     ]
    }
   ],
   "source": [
    "#This cell must be in all notebooks!\n",
    "#It allows us to run all the notebooks at once, this cell has a tag \"parameters\" which allows us to pass in \n",
    "# arguments externally using papermill (see mkfigs.sh for details)\n",
    "\n",
    "### USER EDIT start\n",
    "esm_file = \"/g/data/ol01/access-om3-output/access-om3-025/MC_25km_jra_ryf-1.0-beta/experiment_datastore.json\"\n",
    "dpi=300\n",
    "### USER EDIT stop\n",
    "\n",
    "import os\n",
    "from matplotlib import rcParams\n",
    "%matplotlib inline\n",
    "rcParams[\"figure.dpi\"]= dpi\n",
    "\n",
    "plotfolder=f\"/g/data/{os.environ['PROJECT']}/{os.environ['USER']}/access-om3-paper-figs/\"\n",
    "os.makedirs(plotfolder, exist_ok=True)\n",
    "\n",
    " # a similar cell under this means it's being run in batch\n",
    "print(\"ESM datastore path: \",esm_file)\n",
    "print(\"Plot folder path: \",plotfolder)"
   ]
  },
  {
   "cell_type": "code",
   "execution_count": 2,
   "id": "33f9e72d",
   "metadata": {
    "execution": {
     "iopub.execute_input": "2025-10-30T00:22:40.492750Z",
     "iopub.status.busy": "2025-10-30T00:22:40.491955Z",
     "iopub.status.idle": "2025-10-30T00:22:40.497834Z",
     "shell.execute_reply": "2025-10-30T00:22:40.496833Z"
    },
    "papermill": {
     "duration": 0.010842,
     "end_time": "2025-10-30T00:22:40.498899",
     "exception": false,
     "start_time": "2025-10-30T00:22:40.488057",
     "status": "completed"
    },
    "tags": [
     "injected-parameters"
    ]
   },
   "outputs": [],
   "source": [
    "# Parameters\n",
    "esm_file = \"/g/data/ol01/access-om3-output/access-om3-025/25km-iaf-test-for-AK-expt-7df5ef4c/datastore.json\"\n",
    "plotfolder = \"/g/data/tm70/cyb561/access-om3-paper-1/notebooks/mkfigs_output4/\"\n"
   ]
  },
  {
   "cell_type": "code",
   "execution_count": 3,
   "id": "fccbd514-b68e-4c44-b9a0-f0dbe01ec604",
   "metadata": {
    "editable": true,
    "execution": {
     "iopub.execute_input": "2025-10-30T00:22:40.507514Z",
     "iopub.status.busy": "2025-10-30T00:22:40.507092Z",
     "iopub.status.idle": "2025-10-30T00:22:42.579866Z",
     "shell.execute_reply": "2025-10-30T00:22:42.579291Z"
    },
    "papermill": {
     "duration": 2.078124,
     "end_time": "2025-10-30T00:22:42.581192",
     "exception": false,
     "start_time": "2025-10-30T00:22:40.503068",
     "status": "completed"
    },
    "slideshow": {
     "slide_type": ""
    },
    "tags": []
   },
   "outputs": [],
   "source": [
    "import xarray as xr\n",
    "import cf_xarray\n",
    "import intake\n",
    "import cartopy.crs as ccrs\n",
    "import matplotlib.pyplot as plt\n",
    "from distributed import Client"
   ]
  },
  {
   "cell_type": "code",
   "execution_count": 4,
   "id": "59bdfe12-c0dc-48c2-b5dd-b928c633da79",
   "metadata": {
    "execution": {
     "iopub.execute_input": "2025-10-30T00:22:42.589212Z",
     "iopub.status.busy": "2025-10-30T00:22:42.588878Z",
     "iopub.status.idle": "2025-10-30T00:22:45.865178Z",
     "shell.execute_reply": "2025-10-30T00:22:45.863369Z"
    },
    "papermill": {
     "duration": 3.282065,
     "end_time": "2025-10-30T00:22:45.867215",
     "exception": false,
     "start_time": "2025-10-30T00:22:42.585150",
     "status": "completed"
    },
    "tags": []
   },
   "outputs": [
    {
     "name": "stdout",
     "output_type": "stream",
     "text": [
      "http://127.0.0.1:8787/status\n"
     ]
    }
   ],
   "source": [
    "client = Client(threads_per_worker=1)\n",
    "print(client.dashboard_link)"
   ]
  },
  {
   "cell_type": "markdown",
   "id": "1a4370bb-bc64-4f72-9d49-421033a0026f",
   "metadata": {
    "papermill": {
     "duration": 0.007529,
     "end_time": "2025-10-30T00:22:45.884263",
     "exception": false,
     "start_time": "2025-10-30T00:22:45.876734",
     "status": "completed"
    },
    "tags": []
   },
   "source": [
    "### Open the intake-esm datastore"
   ]
  },
  {
   "cell_type": "code",
   "execution_count": 5,
   "id": "2f80b090-74fe-4a2c-a2b8-574dfd64b74a",
   "metadata": {
    "editable": true,
    "execution": {
     "iopub.execute_input": "2025-10-30T00:22:45.898025Z",
     "iopub.status.busy": "2025-10-30T00:22:45.897507Z",
     "iopub.status.idle": "2025-10-30T00:22:50.316381Z",
     "shell.execute_reply": "2025-10-30T00:22:50.315307Z"
    },
    "papermill": {
     "duration": 4.428031,
     "end_time": "2025-10-30T00:22:50.318547",
     "exception": false,
     "start_time": "2025-10-30T00:22:45.890516",
     "status": "completed"
    },
    "slideshow": {
     "slide_type": ""
    },
    "tags": []
   },
   "outputs": [],
   "source": [
    "COLUMNS_WITH_ITERABLES = [\n",
    "        \"variable\",\n",
    "        \"variable_long_name\",\n",
    "        \"variable_standard_name\",\n",
    "        \"variable_cell_methods\",\n",
    "        \"variable_units\"\n",
    "]\n",
    "\n",
    "datastore = intake.open_esm_datastore(\n",
    "    esm_file,\n",
    "    columns_with_iterables=COLUMNS_WITH_ITERABLES\n",
    ")\n"
   ]
  },
  {
   "cell_type": "markdown",
   "id": "307049b0-a776-42f9-b87f-3c24e3b23e5e",
   "metadata": {
    "papermill": {
     "duration": 0.007433,
     "end_time": "2025-10-30T00:22:50.337601",
     "exception": false,
     "start_time": "2025-10-30T00:22:50.330168",
     "status": "completed"
    },
    "tags": []
   },
   "source": [
    "### What ocean variables are available at monthly frequency?"
   ]
  },
  {
   "cell_type": "code",
   "execution_count": 6,
   "id": "ee696384-b4f1-48aa-911a-28e636f12361",
   "metadata": {
    "execution": {
     "iopub.execute_input": "2025-10-30T00:22:50.351126Z",
     "iopub.status.busy": "2025-10-30T00:22:50.350578Z",
     "iopub.status.idle": "2025-10-30T00:22:50.359961Z",
     "shell.execute_reply": "2025-10-30T00:22:50.358466Z"
    },
    "papermill": {
     "duration": 0.017887,
     "end_time": "2025-10-30T00:22:50.361514",
     "exception": false,
     "start_time": "2025-10-30T00:22:50.343627",
     "status": "completed"
    },
    "tags": []
   },
   "outputs": [],
   "source": [
    "def available_variables(datastore):\n",
    "    \"\"\"Return a pandas dataframe summarising the variables in a datastore\"\"\"\n",
    "    variable_columns = [col for col in datastore.df.columns if \"variable\" in col]\n",
    "    return (\n",
    "        datastore.df[variable_columns]\n",
    "        .explode(variable_columns)\n",
    "        .drop_duplicates()\n",
    "        .set_index(\"variable\")\n",
    "        .sort_index()\n",
    "    )"
   ]
  },
  {
   "cell_type": "code",
   "execution_count": 7,
   "id": "fbef1df9-59ae-4451-9376-71b9e54cd276",
   "metadata": {
    "execution": {
     "iopub.execute_input": "2025-10-30T00:22:50.375772Z",
     "iopub.status.busy": "2025-10-30T00:22:50.375110Z",
     "iopub.status.idle": "2025-10-30T00:22:50.852413Z",
     "shell.execute_reply": "2025-10-30T00:22:50.851903Z"
    },
    "papermill": {
     "duration": 0.487351,
     "end_time": "2025-10-30T00:22:50.855365",
     "exception": false,
     "start_time": "2025-10-30T00:22:50.368014",
     "status": "completed"
    },
    "tags": []
   },
   "outputs": [
    {
     "data": {
      "text/html": [
       "<div>\n",
       "<style scoped>\n",
       "    .dataframe tbody tr th:only-of-type {\n",
       "        vertical-align: middle;\n",
       "    }\n",
       "\n",
       "    .dataframe tbody tr th {\n",
       "        vertical-align: top;\n",
       "    }\n",
       "\n",
       "    .dataframe thead th {\n",
       "        text-align: right;\n",
       "    }\n",
       "</style>\n",
       "<table border=\"1\" class=\"dataframe\">\n",
       "  <thead>\n",
       "    <tr style=\"text-align: right;\">\n",
       "      <th></th>\n",
       "      <th>variable_long_name</th>\n",
       "      <th>variable_standard_name</th>\n",
       "      <th>variable_cell_methods</th>\n",
       "      <th>variable_units</th>\n",
       "    </tr>\n",
       "    <tr>\n",
       "      <th>variable</th>\n",
       "      <th></th>\n",
       "      <th></th>\n",
       "      <th></th>\n",
       "      <th></th>\n",
       "    </tr>\n",
       "  </thead>\n",
       "  <tbody>\n",
       "    <tr>\n",
       "      <th>GM_sfn_y</th>\n",
       "      <td>Parameterized Meridional Overturning Streamfun...</td>\n",
       "      <td></td>\n",
       "      <td>rho2_i:point yq:point xh:mean time: mean</td>\n",
       "      <td>m3 s-1</td>\n",
       "    </tr>\n",
       "    <tr>\n",
       "      <th>KE</th>\n",
       "      <td>Layer kinetic energy per unit mass</td>\n",
       "      <td></td>\n",
       "      <td>area:mean z_l:mean yh:mean xh:mean time: mean</td>\n",
       "      <td>m2 s-2</td>\n",
       "    </tr>\n",
       "    <tr>\n",
       "      <th>Kd_Itidal_Work</th>\n",
       "      <td>Work done by Internal Tide Diapycnal Mixing</td>\n",
       "      <td></td>\n",
       "      <td>area:mean z_l:mean yh:mean xh:mean time: mean</td>\n",
       "      <td>W m-2</td>\n",
       "    </tr>\n",
       "    <tr>\n",
       "      <th>Kd_ePBL</th>\n",
       "      <td>ePBL diapycnal diffusivity at interfaces</td>\n",
       "      <td></td>\n",
       "      <td>area:mean zi:point yh:mean xh:mean time: mean</td>\n",
       "      <td>m2 s-1</td>\n",
       "    </tr>\n",
       "    <tr>\n",
       "      <th>Kd_interface</th>\n",
       "      <td>Total diapycnal diffusivity at interfaces</td>\n",
       "      <td></td>\n",
       "      <td>area:mean zi:point yh:mean xh:mean time: mean</td>\n",
       "      <td>m2 s-1</td>\n",
       "    </tr>\n",
       "    <tr>\n",
       "      <th>...</th>\n",
       "      <td>...</td>\n",
       "      <td>...</td>\n",
       "      <td>...</td>\n",
       "      <td>...</td>\n",
       "    </tr>\n",
       "    <tr>\n",
       "      <th>zi</th>\n",
       "      <td>Interface pseudo-depth, -z*</td>\n",
       "      <td></td>\n",
       "      <td></td>\n",
       "      <td>meter</td>\n",
       "    </tr>\n",
       "    <tr>\n",
       "      <th>zos</th>\n",
       "      <td>Sea surface height above geoid</td>\n",
       "      <td>sea_surface_height_above_geoid</td>\n",
       "      <td>area:mean yh:mean xh:mean time: mean</td>\n",
       "      <td>m</td>\n",
       "    </tr>\n",
       "    <tr>\n",
       "      <th>zos_max</th>\n",
       "      <td>Sea surface height above geoid</td>\n",
       "      <td>sea_surface_height_above_geoid</td>\n",
       "      <td>area:mean yh:mean xh:mean time: max</td>\n",
       "      <td>m</td>\n",
       "    </tr>\n",
       "    <tr>\n",
       "      <th>zos_min</th>\n",
       "      <td>Sea surface height above geoid</td>\n",
       "      <td>sea_surface_height_above_geoid</td>\n",
       "      <td>area:mean yh:mean xh:mean time: min</td>\n",
       "      <td>m</td>\n",
       "    </tr>\n",
       "    <tr>\n",
       "      <th>zossq</th>\n",
       "      <td>Square of sea surface height above geoid</td>\n",
       "      <td>square_of_sea_surface_height_above_geoid</td>\n",
       "      <td>area:mean yh:mean xh:mean time: mean</td>\n",
       "      <td>m2</td>\n",
       "    </tr>\n",
       "  </tbody>\n",
       "</table>\n",
       "<p>61 rows × 4 columns</p>\n",
       "</div>"
      ],
      "text/plain": [
       "                                               variable_long_name  \\\n",
       "variable                                                            \n",
       "GM_sfn_y        Parameterized Meridional Overturning Streamfun...   \n",
       "KE                             Layer kinetic energy per unit mass   \n",
       "Kd_Itidal_Work        Work done by Internal Tide Diapycnal Mixing   \n",
       "Kd_ePBL                  ePBL diapycnal diffusivity at interfaces   \n",
       "Kd_interface            Total diapycnal diffusivity at interfaces   \n",
       "...                                                           ...   \n",
       "zi                                    Interface pseudo-depth, -z*   \n",
       "zos                                Sea surface height above geoid   \n",
       "zos_max                            Sea surface height above geoid   \n",
       "zos_min                            Sea surface height above geoid   \n",
       "zossq                    Square of sea surface height above geoid   \n",
       "\n",
       "                                  variable_standard_name  \\\n",
       "variable                                                   \n",
       "GM_sfn_y                                                   \n",
       "KE                                                         \n",
       "Kd_Itidal_Work                                             \n",
       "Kd_ePBL                                                    \n",
       "Kd_interface                                               \n",
       "...                                                  ...   \n",
       "zi                                                         \n",
       "zos                       sea_surface_height_above_geoid   \n",
       "zos_max                   sea_surface_height_above_geoid   \n",
       "zos_min                   sea_surface_height_above_geoid   \n",
       "zossq           square_of_sea_surface_height_above_geoid   \n",
       "\n",
       "                                        variable_cell_methods variable_units  \n",
       "variable                                                                      \n",
       "GM_sfn_y             rho2_i:point yq:point xh:mean time: mean         m3 s-1  \n",
       "KE              area:mean z_l:mean yh:mean xh:mean time: mean         m2 s-2  \n",
       "Kd_Itidal_Work  area:mean z_l:mean yh:mean xh:mean time: mean          W m-2  \n",
       "Kd_ePBL         area:mean zi:point yh:mean xh:mean time: mean         m2 s-1  \n",
       "Kd_interface    area:mean zi:point yh:mean xh:mean time: mean         m2 s-1  \n",
       "...                                                       ...            ...  \n",
       "zi                                                                     meter  \n",
       "zos                      area:mean yh:mean xh:mean time: mean              m  \n",
       "zos_max                   area:mean yh:mean xh:mean time: max              m  \n",
       "zos_min                   area:mean yh:mean xh:mean time: min              m  \n",
       "zossq                    area:mean yh:mean xh:mean time: mean             m2  \n",
       "\n",
       "[61 rows x 4 columns]"
      ]
     },
     "execution_count": 7,
     "metadata": {},
     "output_type": "execute_result"
    }
   ],
   "source": [
    "datastore_filtered = datastore.search(realm=\"ocean\", frequency=\"1mon\")\n",
    "\n",
    "available_variables(datastore_filtered)"
   ]
  },
  {
   "cell_type": "markdown",
   "id": "39c65b6a-deee-4e89-aa8c-9b22a58740f7",
   "metadata": {
    "papermill": {
     "duration": 0.007467,
     "end_time": "2025-10-30T00:22:50.873180",
     "exception": false,
     "start_time": "2025-10-30T00:22:50.865713",
     "status": "completed"
    },
    "tags": []
   },
   "source": [
    "### Load monthly sea surface height (`zos`) and plot the field at the last available time"
   ]
  },
  {
   "cell_type": "code",
   "execution_count": 8,
   "id": "97697d84-d1f6-4404-87de-94cf7b89bf39",
   "metadata": {
    "execution": {
     "iopub.execute_input": "2025-10-30T00:22:50.931495Z",
     "iopub.status.busy": "2025-10-30T00:22:50.931328Z",
     "iopub.status.idle": "2025-10-30T00:23:44.573791Z",
     "shell.execute_reply": "2025-10-30T00:23:44.572935Z"
    },
    "papermill": {
     "duration": 53.696288,
     "end_time": "2025-10-30T00:23:44.576134",
     "exception": false,
     "start_time": "2025-10-30T00:22:50.879846",
     "status": "completed"
    },
    "scrolled": true,
    "tags": []
   },
   "outputs": [
    {
     "name": "stderr",
     "output_type": "stream",
     "text": [
      "/g/data/xp65/public/apps/med_conda/envs/analysis3-25.09/lib/python3.11/site-packages/intake_esm/core.py:321: FutureWarning: When grouping with a length-1 list-like, you will need to pass a length-1 tuple to get_group in a future version of pandas. Pass `(name,)` instead of `name` to silence this warning.\n",
      "  records = grouped.get_group(internal_key).to_dict(orient='records')\n"
     ]
    }
   ],
   "source": [
    "zos = datastore.search(variable=\"zos\", frequency=\"1mon\").to_dask(\n",
    "    xarray_combine_by_coords_kwargs = dict( # These kwargs can make things faster\n",
    "        compat=\"override\",\n",
    "        data_vars=\"minimal\",\n",
    "        coords=\"minimal\",\n",
    "    ),\n",
    "    xarray_open_kwargs = dict(\n",
    "        chunks={\"yh\": -1, \"xh\": -1}, # Good for spatial operations, but not temporal\n",
    "        decode_timedelta=True\n",
    "    )\n",
    ")"
   ]
  },
  {
   "cell_type": "markdown",
   "id": "5ad8cf6c",
   "metadata": {
    "tags": [
     "papermill-error-cell-tag"
    ]
   },
   "source": [
    "<span id=\"papermill-error-cell\" style=\"color:red; font-family:Helvetica Neue, Helvetica, Arial, sans-serif; font-size:2em;\">Execution using papermill encountered an exception here and stopped:</span>"
   ]
  },
  {
   "cell_type": "code",
   "execution_count": 9,
   "id": "b2dab1b1-b3eb-4b52-8c1a-19fd32adfde5",
   "metadata": {
    "editable": true,
    "execution": {
     "iopub.execute_input": "2025-10-30T00:23:44.595495Z",
     "iopub.status.busy": "2025-10-30T00:23:44.595330Z",
     "iopub.status.idle": "2025-10-30T00:23:48.363247Z",
     "shell.execute_reply": "2025-10-30T00:23:48.360785Z"
    },
    "papermill": {
     "duration": 3.777454,
     "end_time": "2025-10-30T00:23:48.364560",
     "exception": true,
     "start_time": "2025-10-30T00:23:44.587106",
     "status": "failed"
    },
    "slideshow": {
     "slide_type": ""
    },
    "tags": []
   },
   "outputs": [
    {
     "ename": "ValueError",
     "evalue": "The input coordinate is not sorted in increasing order along axis 0. This can lead to unexpected results. Consider calling the `sortby` method on the input DataArray. To plot data with categorical axes, consider using the `heatmap` function from the `seaborn` statistical plotting library.",
     "output_type": "error",
     "traceback": [
      "\u001b[0;31m---------------------------------------------------------------------------\u001b[0m",
      "\u001b[0;31mValueError\u001b[0m                                Traceback (most recent call last)",
      "Cell \u001b[0;32mIn[9], line 4\u001b[0m\n\u001b[1;32m      1\u001b[0m proj \u001b[38;5;241m=\u001b[39m ccrs\u001b[38;5;241m.\u001b[39mPlateCarree()\n\u001b[1;32m      2\u001b[0m fig, ax \u001b[38;5;241m=\u001b[39m plt\u001b[38;5;241m.\u001b[39msubplots(figsize\u001b[38;5;241m=\u001b[39m(\u001b[38;5;241m15\u001b[39m,\u001b[38;5;241m6\u001b[39m), subplot_kw\u001b[38;5;241m=\u001b[39m\u001b[38;5;28mdict\u001b[39m(projection\u001b[38;5;241m=\u001b[39mproj))\n\u001b[0;32m----> 4\u001b[0m \u001b[43mzos\u001b[49m\u001b[43m[\u001b[49m\u001b[38;5;124;43m\"\u001b[39;49m\u001b[38;5;124;43mzos\u001b[39;49m\u001b[38;5;124;43m\"\u001b[39;49m\u001b[43m]\u001b[49m\u001b[38;5;241;43m.\u001b[39;49m\u001b[43misel\u001b[49m\u001b[43m(\u001b[49m\u001b[43mtime\u001b[49m\u001b[38;5;241;43m=\u001b[39;49m\u001b[38;5;241;43m-\u001b[39;49m\u001b[38;5;241;43m1\u001b[39;49m\u001b[43m)\u001b[49m\u001b[38;5;241;43m.\u001b[39;49m\u001b[43mplot\u001b[49m\u001b[43m(\u001b[49m\u001b[43max\u001b[49m\u001b[38;5;241;43m=\u001b[39;49m\u001b[43max\u001b[49m\u001b[43m)\u001b[49m\n\u001b[1;32m      5\u001b[0m ax\u001b[38;5;241m.\u001b[39mcoastlines()\n\u001b[1;32m      6\u001b[0m _ \u001b[38;5;241m=\u001b[39m ax\u001b[38;5;241m.\u001b[39mgridlines()\n",
      "File \u001b[0;32m/g/data/xp65/public/apps/med_conda/envs/analysis3-25.09/lib/python3.11/site-packages/xarray/plot/accessor.py:48\u001b[0m, in \u001b[0;36mDataArrayPlotAccessor.__call__\u001b[0;34m(self, **kwargs)\u001b[0m\n\u001b[1;32m     46\u001b[0m \u001b[38;5;129m@functools\u001b[39m\u001b[38;5;241m.\u001b[39mwraps(dataarray_plot\u001b[38;5;241m.\u001b[39mplot, assigned\u001b[38;5;241m=\u001b[39m(\u001b[38;5;124m\"\u001b[39m\u001b[38;5;124m__doc__\u001b[39m\u001b[38;5;124m\"\u001b[39m, \u001b[38;5;124m\"\u001b[39m\u001b[38;5;124m__annotations__\u001b[39m\u001b[38;5;124m\"\u001b[39m))\n\u001b[1;32m     47\u001b[0m \u001b[38;5;28;01mdef\u001b[39;00m\u001b[38;5;250m \u001b[39m\u001b[38;5;21m__call__\u001b[39m(\u001b[38;5;28mself\u001b[39m, \u001b[38;5;241m*\u001b[39m\u001b[38;5;241m*\u001b[39mkwargs) \u001b[38;5;241m-\u001b[39m\u001b[38;5;241m>\u001b[39m Any:\n\u001b[0;32m---> 48\u001b[0m     \u001b[38;5;28;01mreturn\u001b[39;00m \u001b[43mdataarray_plot\u001b[49m\u001b[38;5;241;43m.\u001b[39;49m\u001b[43mplot\u001b[49m\u001b[43m(\u001b[49m\u001b[38;5;28;43mself\u001b[39;49m\u001b[38;5;241;43m.\u001b[39;49m\u001b[43m_da\u001b[49m\u001b[43m,\u001b[49m\u001b[43m \u001b[49m\u001b[38;5;241;43m*\u001b[39;49m\u001b[38;5;241;43m*\u001b[39;49m\u001b[43mkwargs\u001b[49m\u001b[43m)\u001b[49m\n",
      "File \u001b[0;32m/g/data/xp65/public/apps/med_conda/envs/analysis3-25.09/lib/python3.11/site-packages/xarray/plot/dataarray_plot.py:310\u001b[0m, in \u001b[0;36mplot\u001b[0;34m(darray, row, col, col_wrap, ax, hue, subplot_kws, **kwargs)\u001b[0m\n\u001b[1;32m    306\u001b[0m     plotfunc \u001b[38;5;241m=\u001b[39m hist\n\u001b[1;32m    308\u001b[0m kwargs[\u001b[38;5;124m\"\u001b[39m\u001b[38;5;124max\u001b[39m\u001b[38;5;124m\"\u001b[39m] \u001b[38;5;241m=\u001b[39m ax\n\u001b[0;32m--> 310\u001b[0m \u001b[38;5;28;01mreturn\u001b[39;00m \u001b[43mplotfunc\u001b[49m\u001b[43m(\u001b[49m\u001b[43mdarray\u001b[49m\u001b[43m,\u001b[49m\u001b[43m \u001b[49m\u001b[38;5;241;43m*\u001b[39;49m\u001b[38;5;241;43m*\u001b[39;49m\u001b[43mkwargs\u001b[49m\u001b[43m)\u001b[49m\n",
      "File \u001b[0;32m/g/data/xp65/public/apps/med_conda/envs/analysis3-25.09/lib/python3.11/site-packages/xarray/plot/dataarray_plot.py:1606\u001b[0m, in \u001b[0;36m_plot2d.<locals>.newplotfunc\u001b[0;34m(***failed resolving arguments***)\u001b[0m\n\u001b[1;32m   1602\u001b[0m     \u001b[38;5;28;01mraise\u001b[39;00m \u001b[38;5;167;01mValueError\u001b[39;00m(\u001b[38;5;124m\"\u001b[39m\u001b[38;5;124mplt.imshow\u001b[39m\u001b[38;5;124m'\u001b[39m\u001b[38;5;124ms `aspect` kwarg is not available in xarray\u001b[39m\u001b[38;5;124m\"\u001b[39m)\n\u001b[1;32m   1604\u001b[0m ax \u001b[38;5;241m=\u001b[39m get_axis(figsize, size, aspect, ax, \u001b[38;5;241m*\u001b[39m\u001b[38;5;241m*\u001b[39msubplot_kws)\n\u001b[0;32m-> 1606\u001b[0m primitive \u001b[38;5;241m=\u001b[39m \u001b[43mplotfunc\u001b[49m\u001b[43m(\u001b[49m\n\u001b[1;32m   1607\u001b[0m \u001b[43m    \u001b[49m\u001b[43mxplt\u001b[49m\u001b[43m,\u001b[49m\n\u001b[1;32m   1608\u001b[0m \u001b[43m    \u001b[49m\u001b[43myplt\u001b[49m\u001b[43m,\u001b[49m\n\u001b[1;32m   1609\u001b[0m \u001b[43m    \u001b[49m\u001b[43mzval\u001b[49m\u001b[43m,\u001b[49m\n\u001b[1;32m   1610\u001b[0m \u001b[43m    \u001b[49m\u001b[43max\u001b[49m\u001b[38;5;241;43m=\u001b[39;49m\u001b[43max\u001b[49m\u001b[43m,\u001b[49m\n\u001b[1;32m   1611\u001b[0m \u001b[43m    \u001b[49m\u001b[43mcmap\u001b[49m\u001b[38;5;241;43m=\u001b[39;49m\u001b[43mcmap_params\u001b[49m\u001b[43m[\u001b[49m\u001b[38;5;124;43m\"\u001b[39;49m\u001b[38;5;124;43mcmap\u001b[39;49m\u001b[38;5;124;43m\"\u001b[39;49m\u001b[43m]\u001b[49m\u001b[43m,\u001b[49m\n\u001b[1;32m   1612\u001b[0m \u001b[43m    \u001b[49m\u001b[43mvmin\u001b[49m\u001b[38;5;241;43m=\u001b[39;49m\u001b[43mcmap_params\u001b[49m\u001b[43m[\u001b[49m\u001b[38;5;124;43m\"\u001b[39;49m\u001b[38;5;124;43mvmin\u001b[39;49m\u001b[38;5;124;43m\"\u001b[39;49m\u001b[43m]\u001b[49m\u001b[43m,\u001b[49m\n\u001b[1;32m   1613\u001b[0m \u001b[43m    \u001b[49m\u001b[43mvmax\u001b[49m\u001b[38;5;241;43m=\u001b[39;49m\u001b[43mcmap_params\u001b[49m\u001b[43m[\u001b[49m\u001b[38;5;124;43m\"\u001b[39;49m\u001b[38;5;124;43mvmax\u001b[39;49m\u001b[38;5;124;43m\"\u001b[39;49m\u001b[43m]\u001b[49m\u001b[43m,\u001b[49m\n\u001b[1;32m   1614\u001b[0m \u001b[43m    \u001b[49m\u001b[43mnorm\u001b[49m\u001b[38;5;241;43m=\u001b[39;49m\u001b[43mcmap_params\u001b[49m\u001b[43m[\u001b[49m\u001b[38;5;124;43m\"\u001b[39;49m\u001b[38;5;124;43mnorm\u001b[39;49m\u001b[38;5;124;43m\"\u001b[39;49m\u001b[43m]\u001b[49m\u001b[43m,\u001b[49m\n\u001b[1;32m   1615\u001b[0m \u001b[43m    \u001b[49m\u001b[38;5;241;43m*\u001b[39;49m\u001b[38;5;241;43m*\u001b[39;49m\u001b[43mkwargs\u001b[49m\u001b[43m,\u001b[49m\n\u001b[1;32m   1616\u001b[0m \u001b[43m\u001b[49m\u001b[43m)\u001b[49m\n\u001b[1;32m   1618\u001b[0m \u001b[38;5;66;03m# Label the plot with metadata\u001b[39;00m\n\u001b[1;32m   1619\u001b[0m \u001b[38;5;28;01mif\u001b[39;00m add_labels:\n",
      "File \u001b[0;32m/g/data/xp65/public/apps/med_conda/envs/analysis3-25.09/lib/python3.11/site-packages/xarray/plot/dataarray_plot.py:2308\u001b[0m, in \u001b[0;36mpcolormesh\u001b[0;34m(x, y, z, ax, xscale, yscale, infer_intervals, **kwargs)\u001b[0m\n\u001b[1;32m   2306\u001b[0m \u001b[38;5;28;01mif\u001b[39;00m infer_intervals \u001b[38;5;129;01mand\u001b[39;00m (np\u001b[38;5;241m.\u001b[39mshape(y)[\u001b[38;5;241m0\u001b[39m] \u001b[38;5;241m==\u001b[39m np\u001b[38;5;241m.\u001b[39mshape(z)[\u001b[38;5;241m0\u001b[39m]):\n\u001b[1;32m   2307\u001b[0m     \u001b[38;5;28;01mif\u001b[39;00m y\u001b[38;5;241m.\u001b[39mndim \u001b[38;5;241m==\u001b[39m \u001b[38;5;241m1\u001b[39m:\n\u001b[0;32m-> 2308\u001b[0m         y \u001b[38;5;241m=\u001b[39m \u001b[43m_infer_interval_breaks\u001b[49m\u001b[43m(\u001b[49m\u001b[43my\u001b[49m\u001b[43m,\u001b[49m\u001b[43m \u001b[49m\u001b[43mcheck_monotonic\u001b[49m\u001b[38;5;241;43m=\u001b[39;49m\u001b[38;5;28;43;01mTrue\u001b[39;49;00m\u001b[43m,\u001b[49m\u001b[43m \u001b[49m\u001b[43mscale\u001b[49m\u001b[38;5;241;43m=\u001b[39;49m\u001b[43myscale\u001b[49m\u001b[43m)\u001b[49m\n\u001b[1;32m   2309\u001b[0m     \u001b[38;5;28;01melse\u001b[39;00m:\n\u001b[1;32m   2310\u001b[0m         \u001b[38;5;66;03m# we have to infer the intervals on both axes\u001b[39;00m\n\u001b[1;32m   2311\u001b[0m         y \u001b[38;5;241m=\u001b[39m _infer_interval_breaks(y, axis\u001b[38;5;241m=\u001b[39m\u001b[38;5;241m1\u001b[39m, scale\u001b[38;5;241m=\u001b[39myscale)\n",
      "File \u001b[0;32m/g/data/xp65/public/apps/med_conda/envs/analysis3-25.09/lib/python3.11/site-packages/xarray/plot/utils.py:870\u001b[0m, in \u001b[0;36m_infer_interval_breaks\u001b[0;34m(coord, axis, scale, check_monotonic)\u001b[0m\n\u001b[1;32m    867\u001b[0m coord \u001b[38;5;241m=\u001b[39m np\u001b[38;5;241m.\u001b[39masarray(coord)\n\u001b[1;32m    869\u001b[0m \u001b[38;5;28;01mif\u001b[39;00m check_monotonic \u001b[38;5;129;01mand\u001b[39;00m \u001b[38;5;129;01mnot\u001b[39;00m _is_monotonic(coord, axis\u001b[38;5;241m=\u001b[39maxis):\n\u001b[0;32m--> 870\u001b[0m     \u001b[38;5;28;01mraise\u001b[39;00m \u001b[38;5;167;01mValueError\u001b[39;00m(\n\u001b[1;32m    871\u001b[0m         \u001b[38;5;124m\"\u001b[39m\u001b[38;5;124mThe input coordinate is not sorted in increasing \u001b[39m\u001b[38;5;124m\"\u001b[39m\n\u001b[1;32m    872\u001b[0m         \u001b[38;5;124mf\u001b[39m\u001b[38;5;124m\"\u001b[39m\u001b[38;5;124morder along axis \u001b[39m\u001b[38;5;132;01m{\u001b[39;00maxis\u001b[38;5;132;01m}\u001b[39;00m\u001b[38;5;124m. This can lead to unexpected \u001b[39m\u001b[38;5;124m\"\u001b[39m\n\u001b[1;32m    873\u001b[0m         \u001b[38;5;124m\"\u001b[39m\u001b[38;5;124mresults. Consider calling the `sortby` method on \u001b[39m\u001b[38;5;124m\"\u001b[39m\n\u001b[1;32m    874\u001b[0m         \u001b[38;5;124m\"\u001b[39m\u001b[38;5;124mthe input DataArray. To plot data with categorical \u001b[39m\u001b[38;5;124m\"\u001b[39m\n\u001b[1;32m    875\u001b[0m         \u001b[38;5;124m\"\u001b[39m\u001b[38;5;124maxes, consider using the `heatmap` function from \u001b[39m\u001b[38;5;124m\"\u001b[39m\n\u001b[1;32m    876\u001b[0m         \u001b[38;5;124m\"\u001b[39m\u001b[38;5;124mthe `seaborn` statistical plotting library.\u001b[39m\u001b[38;5;124m\"\u001b[39m\n\u001b[1;32m    877\u001b[0m     )\n\u001b[1;32m    879\u001b[0m \u001b[38;5;66;03m# If logscale, compute the intervals in the logarithmic space\u001b[39;00m\n\u001b[1;32m    880\u001b[0m \u001b[38;5;28;01mif\u001b[39;00m scale \u001b[38;5;241m==\u001b[39m \u001b[38;5;124m\"\u001b[39m\u001b[38;5;124mlog\u001b[39m\u001b[38;5;124m\"\u001b[39m:\n",
      "\u001b[0;31mValueError\u001b[0m: The input coordinate is not sorted in increasing order along axis 0. This can lead to unexpected results. Consider calling the `sortby` method on the input DataArray. To plot data with categorical axes, consider using the `heatmap` function from the `seaborn` statistical plotting library."
     ]
    },
    {
     "data": {
      "image/png": "[encoded data removed]",
      "text/plain": [
       "<Figure size 4500x1800 with 1 Axes>"
      ]
     },
     "metadata": {},
     "output_type": "display_data"
    }
   ],
   "source": [
    "proj = ccrs.PlateCarree()\n",
    "fig, ax = plt.subplots(figsize=(15,6), subplot_kw=dict(projection=proj))\n",
    "\n",
    "zos[\"zos\"].isel(time=-1).plot(ax=ax)\n",
    "ax.coastlines()\n",
    "_ = ax.gridlines()"
   ]
  },
  {
   "cell_type": "markdown",
   "id": "4a49deba-76a9-48fa-bd33-83cfdeda4597",
   "metadata": {
    "papermill": {
     "duration": null,
     "end_time": null,
     "exception": null,
     "start_time": null,
     "status": "pending"
    },
    "tags": []
   },
   "source": [
    "#### Fixing the plot axes\n",
    "\n",
    "Notice that the white land-masked regions are distorted away from the coastlines in the Arctic in the above plot. This is because a tripolar grid is used, so the grid lines are not zonal and meridional north of 65N, and consequently the nominal 1D coordinates `xh` and `yh` are incorrect. To fix this we need to use 2d coordinates `geolon` and `geolat`.\n",
    "\n",
    "We can get these coorindates from the intake-esm datastore. However, note that `geolon` and `geolat` contain NaNs in regions where processors were masked over land. Below we replace these NaNs with zeros so that the coordinates can be used for plotting."
   ]
  },
  {
   "cell_type": "code",
   "execution_count": null,
   "id": "04fd97ae-5151-4f65-beff-4b2fddc3667a",
   "metadata": {
    "papermill": {
     "duration": null,
     "end_time": null,
     "exception": null,
     "start_time": null,
     "status": "pending"
    },
    "tags": []
   },
   "outputs": [],
   "source": [
    "coords = datastore.search(variable=[\"geolat\", \"geolon\"]).to_dask().compute()\n",
    "coords = coords.fillna(0.0)\n",
    "\n",
    "zos = zos.assign_coords(coords)"
   ]
  },
  {
   "cell_type": "code",
   "execution_count": null,
   "id": "7525060b-af54-4488-8c54-9384b8c8d67c",
   "metadata": {
    "papermill": {
     "duration": null,
     "end_time": null,
     "exception": null,
     "start_time": null,
     "status": "pending"
    },
    "tags": []
   },
   "outputs": [],
   "source": [
    "proj = ccrs.PlateCarree()\n",
    "fig, ax = plt.subplots(figsize=(15,6), subplot_kw=dict(projection=proj))\n",
    "\n",
    "zos[\"zos\"].isel(time=-1).plot(ax=ax, x=\"geolon\", y=\"geolat\")\n",
    "\n",
    "ax.coastlines()\n",
    "_ = ax.gridlines()\n",
    "plt.savefig(plotfolder+'exampleout.png')"
   ]
  },
  {
   "cell_type": "code",
   "execution_count": null,
   "id": "dc233585-cfe2-4e1d-998e-1a49472803f2",
   "metadata": {
    "papermill": {
     "duration": null,
     "end_time": null,
     "exception": null,
     "start_time": null,
     "status": "pending"
    },
    "tags": []
   },
   "outputs": [],
   "source": [
    "client.close()"
   ]
  }
 ],
 "metadata": {
  "kernelspec": {
   "display_name": "Python 3 (ipykernel)",
   "language": "python",
   "name": "python3"
  },
  "language_info": {
   "codemirror_mode": {
    "name": "ipython",
    "version": 3
   },
   "file_extension": ".py",
   "mimetype": "text/x-python",
   "name": "python",
   "nbconvert_exporter": "python",
   "pygments_lexer": "ipython3",
   "version": "3.11.13"
  },
  "papermill": {
   "default_parameters": {},
   "duration": 73.266373,
   "end_time": "2025-10-30T00:23:50.992067",
   "environment_variables": {},
   "exception": true,
   "input_path": "00_template_notebook.ipynb",
   "output_path": "/g/data/tm70/cyb561/access-om3-paper-1/notebooks/mkfigs_output4/00_template_notebook_rendered.ipynb",
   "parameters": {
    "esm_file": "/g/data/ol01/access-om3-output/access-om3-025/25km-iaf-test-for-AK-expt-7df5ef4c/datastore.json",
    "plotfolder": "/g/data/tm70/cyb561/access-om3-paper-1/notebooks/mkfigs_output4/"
   },
   "start_time": "2025-10-30T00:22:37.725694",
   "version": "2.6.0"
  }
 },
 "nbformat": 4,
 "nbformat_minor": 5
}
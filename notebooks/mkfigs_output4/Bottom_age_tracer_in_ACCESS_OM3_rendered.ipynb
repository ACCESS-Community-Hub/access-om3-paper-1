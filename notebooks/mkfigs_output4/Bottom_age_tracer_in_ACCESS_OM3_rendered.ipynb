{
 "cells": [
  {
   "cell_type": "markdown",
   "id": "60356e49",
   "metadata": {
    "tags": [
     "papermill-error-cell-tag"
    ]
   },
   "source": [
    "<span style=\"color:red; font-family:Helvetica Neue, Helvetica, Arial, sans-serif; font-size:2em;\">An Exception was encountered at '<a href=\"#papermill-error-cell\">In [7]</a>'.</span>"
   ]
  },
  {
   "cell_type": "markdown",
   "id": "111ee8c0-b3af-474b-b815-71c591a9ba3d",
   "metadata": {
    "papermill": {
     "duration": 0.015387,
     "end_time": "2025-10-30T00:24:04.087120",
     "exception": false,
     "start_time": "2025-10-30T00:24:04.071733",
     "status": "completed"
    },
    "tags": []
   },
   "source": [
    "# Bottom age tracer in the OM3-25km beta release"
   ]
  },
  {
   "cell_type": "code",
   "execution_count": 1,
   "id": "a04f0236-52e5-4b18-8fba-24ffdc0b9b73",
   "metadata": {
    "editable": true,
    "execution": {
     "iopub.execute_input": "2025-10-30T00:24:04.109513Z",
     "iopub.status.busy": "2025-10-30T00:24:04.108879Z",
     "iopub.status.idle": "2025-10-30T00:24:04.956604Z",
     "shell.execute_reply": "2025-10-30T00:24:04.955831Z"
    },
    "papermill": {
     "duration": 0.859393,
     "end_time": "2025-10-30T00:24:04.958465",
     "exception": false,
     "start_time": "2025-10-30T00:24:04.099072",
     "status": "completed"
    },
    "slideshow": {
     "slide_type": ""
    },
    "tags": [
     "parameters"
    ]
   },
   "outputs": [
    {
     "name": "stdout",
     "output_type": "stream",
     "text": [
      "ESM datastore path:  /g/data/ol01/access-om3-output/access-om3-025/MC_25km_jra_ryf-1.0-beta/experiment_datastore.json\n",
      "Plot folder path:  /g/data/tm70/cyb561/access-om3-paper-figs/\n"
     ]
    }
   ],
   "source": [
    "#parameters\n",
    "\n",
    "### USER EDIT start\n",
    "esm_file='/g/data/ol01/access-om3-output/access-om3-025/MC_25km_jra_ryf-1.0-beta/experiment_datastore.json'\n",
    "dpi=300\n",
    "### USER EDIT stop\n",
    "\n",
    "import os\n",
    "from matplotlib import rcParams\n",
    "%matplotlib inline\n",
    "rcParams['figure.dpi']= dpi\n",
    "\n",
    "plotfolder=f\"/g/data/{os.environ['PROJECT']}/{os.environ['USER']}/access-om3-paper-figs/\"\n",
    "os.makedirs(plotfolder, exist_ok=True)\n",
    "\n",
    " # a similar cell under this means it's being run in batch\n",
    "print(\"ESM datastore path: \",esm_file)\n",
    "print(\"Plot folder path: \",plotfolder)"
   ]
  },
  {
   "cell_type": "code",
   "execution_count": 2,
   "id": "f862f32e",
   "metadata": {
    "execution": {
     "iopub.execute_input": "2025-10-30T00:24:04.984585Z",
     "iopub.status.busy": "2025-10-30T00:24:04.983911Z",
     "iopub.status.idle": "2025-10-30T00:24:04.989769Z",
     "shell.execute_reply": "2025-10-30T00:24:04.988696Z"
    },
    "papermill": {
     "duration": 0.018831,
     "end_time": "2025-10-30T00:24:04.991282",
     "exception": false,
     "start_time": "2025-10-30T00:24:04.972451",
     "status": "completed"
    },
    "tags": [
     "injected-parameters"
    ]
   },
   "outputs": [],
   "source": [
    "# Parameters\n",
    "esm_file = \"/g/data/ol01/access-om3-output/access-om3-025/25km-iaf-test-for-AK-expt-7df5ef4c/datastore.json\"\n",
    "plotfolder = \"/g/data/tm70/cyb561/access-om3-paper-1/notebooks/mkfigs_output4/\"\n"
   ]
  },
  {
   "cell_type": "code",
   "execution_count": 3,
   "id": "ada5fca0-ee1d-4630-acf8-48ad61d2b02d",
   "metadata": {
    "execution": {
     "iopub.execute_input": "2025-10-30T00:24:05.014462Z",
     "iopub.status.busy": "2025-10-30T00:24:05.013931Z",
     "iopub.status.idle": "2025-10-30T00:24:06.343715Z",
     "shell.execute_reply": "2025-10-30T00:24:06.342844Z"
    },
    "papermill": {
     "duration": 1.343671,
     "end_time": "2025-10-30T00:24:06.346250",
     "exception": false,
     "start_time": "2025-10-30T00:24:05.002579",
     "status": "completed"
    },
    "tags": []
   },
   "outputs": [],
   "source": [
    "import intake\n",
    "import xarray as xr\n",
    "import numpy as np\n",
    "import matplotlib.pyplot as plt\n",
    "import cmocean as cm\n",
    "from distributed import Client\n",
    "\n",
    "# Stop annoying warnings coming out of xarray.\n",
    "import warnings\n",
    "warnings.filterwarnings('ignore')"
   ]
  },
  {
   "cell_type": "code",
   "execution_count": 4,
   "id": "6802be4d-f29f-474a-b5f4-ea022d1a21be",
   "metadata": {
    "execution": {
     "iopub.execute_input": "2025-10-30T00:24:06.376040Z",
     "iopub.status.busy": "2025-10-30T00:24:06.375049Z",
     "iopub.status.idle": "2025-10-30T00:24:09.503661Z",
     "shell.execute_reply": "2025-10-30T00:24:09.501978Z"
    },
    "papermill": {
     "duration": 3.145331,
     "end_time": "2025-10-30T00:24:09.506130",
     "exception": false,
     "start_time": "2025-10-30T00:24:06.360799",
     "status": "completed"
    },
    "tags": []
   },
   "outputs": [
    {
     "name": "stdout",
     "output_type": "stream",
     "text": [
      "http://127.0.0.1:8787/status\n"
     ]
    }
   ],
   "source": [
    "client = Client(threads_per_worker=1) \n",
    "print(client.dashboard_link)"
   ]
  },
  {
   "cell_type": "markdown",
   "id": "4142deaa-9749-43b8-afa2-ee5acfa751f0",
   "metadata": {
    "papermill": {
     "duration": 0.010381,
     "end_time": "2025-10-30T00:24:09.530801",
     "exception": false,
     "start_time": "2025-10-30T00:24:09.520420",
     "status": "completed"
    },
    "tags": []
   },
   "source": [
    "Open intake datastore:"
   ]
  },
  {
   "cell_type": "code",
   "execution_count": 5,
   "id": "ba32f279-0982-4746-be21-7f37b09de709",
   "metadata": {
    "execution": {
     "iopub.execute_input": "2025-10-30T00:24:09.547205Z",
     "iopub.status.busy": "2025-10-30T00:24:09.546714Z",
     "iopub.status.idle": "2025-10-30T00:24:11.423085Z",
     "shell.execute_reply": "2025-10-30T00:24:11.422047Z"
    },
    "papermill": {
     "duration": 1.886706,
     "end_time": "2025-10-30T00:24:11.425398",
     "exception": false,
     "start_time": "2025-10-30T00:24:09.538692",
     "status": "completed"
    },
    "tags": []
   },
   "outputs": [],
   "source": [
    "# datastore_path = \"/g/data/ol01/access-om3-output/access-om3-025/MC_25km_jra_ryf-1.0-beta/experiment_datastore.json\"\n",
    "\n",
    "datastore = intake.open_esm_datastore(\n",
    "    esm_file,\n",
    "    columns_with_iterables=[\n",
    "        \"variable\",\n",
    "        \"variable_long_name\",\n",
    "        \"variable_standard_name\",\n",
    "        \"variable_cell_methods\",\n",
    "        \"variable_units\"\n",
    "    ]\n",
    ")"
   ]
  },
  {
   "cell_type": "markdown",
   "id": "fcd98944-1797-483e-b2de-a2487689d186",
   "metadata": {
    "papermill": {
     "duration": 0.009871,
     "end_time": "2025-10-30T00:24:11.449566",
     "exception": false,
     "start_time": "2025-10-30T00:24:11.439695",
     "status": "completed"
    },
    "tags": []
   },
   "source": [
    "6 Aug 2025: Output available from 1900-1948"
   ]
  },
  {
   "cell_type": "markdown",
   "id": "6bc020ea-7c51-418f-88a2-929740ef063c",
   "metadata": {
    "papermill": {
     "duration": 0.006196,
     "end_time": "2025-10-30T00:24:11.463547",
     "exception": false,
     "start_time": "2025-10-30T00:24:11.457351",
     "status": "completed"
    },
    "tags": []
   },
   "source": [
    "### Load bottom age tracer"
   ]
  },
  {
   "cell_type": "code",
   "execution_count": 6,
   "id": "67df642c-a2c5-4579-a39e-fae1f6be6eae",
   "metadata": {
    "execution": {
     "iopub.execute_input": "2025-10-30T00:24:11.476104Z",
     "iopub.status.busy": "2025-10-30T00:24:11.475645Z",
     "iopub.status.idle": "2025-10-30T00:25:04.492275Z",
     "shell.execute_reply": "2025-10-30T00:25:04.490748Z"
    },
    "papermill": {
     "duration": 53.025448,
     "end_time": "2025-10-30T00:25:04.494916",
     "exception": false,
     "start_time": "2025-10-30T00:24:11.469468",
     "status": "completed"
    },
    "tags": []
   },
   "outputs": [],
   "source": [
    "age_OM3 = datastore.search(variable=\"agessc\", frequency=\"1mon\").to_dask(\n",
    "    xarray_open_kwargs = dict(\n",
    "        chunks={\"yh\": -1, \"xh\": -1}, # Good for spatial operations, but not temporal\n",
    "        # chunks={\"time\": -1}, # Good for temporal operations, but not spatial\n",
    "        decode_timedelta=True\n",
    "    )\n",
    ")"
   ]
  },
  {
   "cell_type": "markdown",
   "id": "6ee80cb1",
   "metadata": {
    "tags": [
     "papermill-error-cell-tag"
    ]
   },
   "source": [
    "<span id=\"papermill-error-cell\" style=\"color:red; font-family:Helvetica Neue, Helvetica, Arial, sans-serif; font-size:2em;\">Execution using papermill encountered an exception here and stopped:</span>"
   ]
  },
  {
   "cell_type": "code",
   "execution_count": 7,
   "id": "fe09465e-5a1d-4995-8744-482e5b591890",
   "metadata": {
    "execution": {
     "iopub.execute_input": "2025-10-30T00:25:04.576850Z",
     "iopub.status.busy": "2025-10-30T00:25:04.576681Z",
     "iopub.status.idle": "2025-10-30T00:25:05.739100Z",
     "shell.execute_reply": "2025-10-30T00:25:05.738230Z"
    },
    "papermill": {
     "duration": 1.231463,
     "end_time": "2025-10-30T00:25:05.741330",
     "exception": true,
     "start_time": "2025-10-30T00:25:04.509867",
     "status": "failed"
    },
    "tags": []
   },
   "outputs": [
    {
     "ename": "KeyError",
     "evalue": "-90",
     "output_type": "error",
     "traceback": [
      "\u001b[0;31m---------------------------------------------------------------------------\u001b[0m",
      "\u001b[0;31mKeyError\u001b[0m                                  Traceback (most recent call last)",
      "File \u001b[0;32m/g/data/xp65/public/apps/med_conda/envs/analysis3-25.09/lib/python3.11/site-packages/pandas/core/indexes/base.py:3812\u001b[0m, in \u001b[0;36mIndex.get_loc\u001b[0;34m(self, key)\u001b[0m\n\u001b[1;32m   3811\u001b[0m \u001b[38;5;28;01mtry\u001b[39;00m:\n\u001b[0;32m-> 3812\u001b[0m     \u001b[38;5;28;01mreturn\u001b[39;00m \u001b[38;5;28;43mself\u001b[39;49m\u001b[38;5;241;43m.\u001b[39;49m\u001b[43m_engine\u001b[49m\u001b[38;5;241;43m.\u001b[39;49m\u001b[43mget_loc\u001b[49m\u001b[43m(\u001b[49m\u001b[43mcasted_key\u001b[49m\u001b[43m)\u001b[49m\n\u001b[1;32m   3813\u001b[0m \u001b[38;5;28;01mexcept\u001b[39;00m \u001b[38;5;167;01mKeyError\u001b[39;00m \u001b[38;5;28;01mas\u001b[39;00m err:\n",
      "File \u001b[0;32mpandas/_libs/index.pyx:167\u001b[0m, in \u001b[0;36mpandas._libs.index.IndexEngine.get_loc\u001b[0;34m()\u001b[0m\n",
      "File \u001b[0;32mpandas/_libs/index.pyx:196\u001b[0m, in \u001b[0;36mpandas._libs.index.IndexEngine.get_loc\u001b[0;34m()\u001b[0m\n",
      "File \u001b[0;32mpandas/_libs/hashtable_class_helper.pxi:1698\u001b[0m, in \u001b[0;36mpandas._libs.hashtable.Float64HashTable.get_item\u001b[0;34m()\u001b[0m\n",
      "File \u001b[0;32mpandas/_libs/hashtable_class_helper.pxi:1722\u001b[0m, in \u001b[0;36mpandas._libs.hashtable.Float64HashTable.get_item\u001b[0;34m()\u001b[0m\n",
      "\u001b[0;31mKeyError\u001b[0m: -90.0",
      "\nThe above exception was the direct cause of the following exception:\n",
      "\u001b[0;31mKeyError\u001b[0m                                  Traceback (most recent call last)",
      "Cell \u001b[0;32mIn[7], line 2\u001b[0m\n\u001b[1;32m      1\u001b[0m \u001b[38;5;66;03m# Year 10\u001b[39;00m\n\u001b[0;32m----> 2\u001b[0m age_OM3_10yr \u001b[38;5;241m=\u001b[39m \u001b[43mage_OM3\u001b[49m\u001b[38;5;241;43m.\u001b[39;49m\u001b[43magessc\u001b[49m\u001b[38;5;241;43m.\u001b[39;49m\u001b[43msel\u001b[49m\u001b[43m(\u001b[49m\u001b[43myh\u001b[49m\u001b[38;5;241;43m=\u001b[39;49m\u001b[38;5;28;43mslice\u001b[39;49m\u001b[43m(\u001b[49m\u001b[38;5;241;43m-\u001b[39;49m\u001b[38;5;241;43m90\u001b[39;49m\u001b[43m,\u001b[49m\u001b[38;5;241;43m-\u001b[39;49m\u001b[38;5;241;43m50\u001b[39;49m\u001b[43m)\u001b[49m\u001b[43m)\u001b[49m\u001b[38;5;241m.\u001b[39msel(time\u001b[38;5;241m=\u001b[39m\u001b[38;5;28mslice\u001b[39m(\u001b[38;5;124m'\u001b[39m\u001b[38;5;124m1909-01-01\u001b[39m\u001b[38;5;124m'\u001b[39m,\u001b[38;5;124m'\u001b[39m\u001b[38;5;124m1909-12-31\u001b[39m\u001b[38;5;124m'\u001b[39m))\n\u001b[1;32m      3\u001b[0m age_OM3_10yr \u001b[38;5;241m=\u001b[39m age_OM3_10yr\u001b[38;5;241m.\u001b[39mmean(\u001b[38;5;124m'\u001b[39m\u001b[38;5;124mtime\u001b[39m\u001b[38;5;124m'\u001b[39m)\u001b[38;5;241m.\u001b[39mload()\n",
      "File \u001b[0;32m/g/data/xp65/public/apps/med_conda/envs/analysis3-25.09/lib/python3.11/site-packages/xarray/core/dataarray.py:1664\u001b[0m, in \u001b[0;36mDataArray.sel\u001b[0;34m(self, indexers, method, tolerance, drop, **indexers_kwargs)\u001b[0m\n\u001b[1;32m   1548\u001b[0m \u001b[38;5;28;01mdef\u001b[39;00m\u001b[38;5;250m \u001b[39m\u001b[38;5;21msel\u001b[39m(\n\u001b[1;32m   1549\u001b[0m     \u001b[38;5;28mself\u001b[39m,\n\u001b[1;32m   1550\u001b[0m     indexers: Mapping[Any, Any] \u001b[38;5;241m|\u001b[39m \u001b[38;5;28;01mNone\u001b[39;00m \u001b[38;5;241m=\u001b[39m \u001b[38;5;28;01mNone\u001b[39;00m,\n\u001b[0;32m   (...)\u001b[0m\n\u001b[1;32m   1554\u001b[0m     \u001b[38;5;241m*\u001b[39m\u001b[38;5;241m*\u001b[39mindexers_kwargs: Any,\n\u001b[1;32m   1555\u001b[0m ) \u001b[38;5;241m-\u001b[39m\u001b[38;5;241m>\u001b[39m Self:\n\u001b[1;32m   1556\u001b[0m \u001b[38;5;250m    \u001b[39m\u001b[38;5;124;03m\"\"\"Return a new DataArray whose data is given by selecting index\u001b[39;00m\n\u001b[1;32m   1557\u001b[0m \u001b[38;5;124;03m    labels along the specified dimension(s).\u001b[39;00m\n\u001b[1;32m   1558\u001b[0m \n\u001b[0;32m   (...)\u001b[0m\n\u001b[1;32m   1662\u001b[0m \u001b[38;5;124;03m    Dimensions without coordinates: points\u001b[39;00m\n\u001b[1;32m   1663\u001b[0m \u001b[38;5;124;03m    \"\"\"\u001b[39;00m\n\u001b[0;32m-> 1664\u001b[0m     ds \u001b[38;5;241m=\u001b[39m \u001b[38;5;28;43mself\u001b[39;49m\u001b[38;5;241;43m.\u001b[39;49m\u001b[43m_to_temp_dataset\u001b[49m\u001b[43m(\u001b[49m\u001b[43m)\u001b[49m\u001b[38;5;241;43m.\u001b[39;49m\u001b[43msel\u001b[49m\u001b[43m(\u001b[49m\n\u001b[1;32m   1665\u001b[0m \u001b[43m        \u001b[49m\u001b[43mindexers\u001b[49m\u001b[38;5;241;43m=\u001b[39;49m\u001b[43mindexers\u001b[49m\u001b[43m,\u001b[49m\n\u001b[1;32m   1666\u001b[0m \u001b[43m        \u001b[49m\u001b[43mdrop\u001b[49m\u001b[38;5;241;43m=\u001b[39;49m\u001b[43mdrop\u001b[49m\u001b[43m,\u001b[49m\n\u001b[1;32m   1667\u001b[0m \u001b[43m        \u001b[49m\u001b[43mmethod\u001b[49m\u001b[38;5;241;43m=\u001b[39;49m\u001b[43mmethod\u001b[49m\u001b[43m,\u001b[49m\n\u001b[1;32m   1668\u001b[0m \u001b[43m        \u001b[49m\u001b[43mtolerance\u001b[49m\u001b[38;5;241;43m=\u001b[39;49m\u001b[43mtolerance\u001b[49m\u001b[43m,\u001b[49m\n\u001b[1;32m   1669\u001b[0m \u001b[43m        \u001b[49m\u001b[38;5;241;43m*\u001b[39;49m\u001b[38;5;241;43m*\u001b[39;49m\u001b[43mindexers_kwargs\u001b[49m\u001b[43m,\u001b[49m\n\u001b[1;32m   1670\u001b[0m \u001b[43m    \u001b[49m\u001b[43m)\u001b[49m\n\u001b[1;32m   1671\u001b[0m     \u001b[38;5;28;01mreturn\u001b[39;00m \u001b[38;5;28mself\u001b[39m\u001b[38;5;241m.\u001b[39m_from_temp_dataset(ds)\n",
      "File \u001b[0;32m/g/data/xp65/public/apps/med_conda/envs/analysis3-25.09/lib/python3.11/site-packages/xarray/core/dataset.py:2912\u001b[0m, in \u001b[0;36mDataset.sel\u001b[0;34m(self, indexers, method, tolerance, drop, **indexers_kwargs)\u001b[0m\n\u001b[1;32m   2844\u001b[0m \u001b[38;5;250m\u001b[39m\u001b[38;5;124;03m\"\"\"Returns a new dataset with each array indexed by tick labels\u001b[39;00m\n\u001b[1;32m   2845\u001b[0m \u001b[38;5;124;03malong the specified dimension(s).\u001b[39;00m\n\u001b[1;32m   2846\u001b[0m \n\u001b[0;32m   (...)\u001b[0m\n\u001b[1;32m   2909\u001b[0m \n\u001b[1;32m   2910\u001b[0m \u001b[38;5;124;03m\"\"\"\u001b[39;00m\n\u001b[1;32m   2911\u001b[0m indexers \u001b[38;5;241m=\u001b[39m either_dict_or_kwargs(indexers, indexers_kwargs, \u001b[38;5;124m\"\u001b[39m\u001b[38;5;124msel\u001b[39m\u001b[38;5;124m\"\u001b[39m)\n\u001b[0;32m-> 2912\u001b[0m query_results \u001b[38;5;241m=\u001b[39m \u001b[43mmap_index_queries\u001b[49m\u001b[43m(\u001b[49m\n\u001b[1;32m   2913\u001b[0m \u001b[43m    \u001b[49m\u001b[38;5;28;43mself\u001b[39;49m\u001b[43m,\u001b[49m\u001b[43m \u001b[49m\u001b[43mindexers\u001b[49m\u001b[38;5;241;43m=\u001b[39;49m\u001b[43mindexers\u001b[49m\u001b[43m,\u001b[49m\u001b[43m \u001b[49m\u001b[43mmethod\u001b[49m\u001b[38;5;241;43m=\u001b[39;49m\u001b[43mmethod\u001b[49m\u001b[43m,\u001b[49m\u001b[43m \u001b[49m\u001b[43mtolerance\u001b[49m\u001b[38;5;241;43m=\u001b[39;49m\u001b[43mtolerance\u001b[49m\n\u001b[1;32m   2914\u001b[0m \u001b[43m\u001b[49m\u001b[43m)\u001b[49m\n\u001b[1;32m   2916\u001b[0m \u001b[38;5;28;01mif\u001b[39;00m drop:\n\u001b[1;32m   2917\u001b[0m     no_scalar_variables \u001b[38;5;241m=\u001b[39m {}\n",
      "File \u001b[0;32m/g/data/xp65/public/apps/med_conda/envs/analysis3-25.09/lib/python3.11/site-packages/xarray/core/indexing.py:197\u001b[0m, in \u001b[0;36mmap_index_queries\u001b[0;34m(obj, indexers, method, tolerance, **indexers_kwargs)\u001b[0m\n\u001b[1;32m    195\u001b[0m         results\u001b[38;5;241m.\u001b[39mappend(IndexSelResult(labels))\n\u001b[1;32m    196\u001b[0m     \u001b[38;5;28;01melse\u001b[39;00m:\n\u001b[0;32m--> 197\u001b[0m         results\u001b[38;5;241m.\u001b[39mappend(\u001b[43mindex\u001b[49m\u001b[38;5;241;43m.\u001b[39;49m\u001b[43msel\u001b[49m\u001b[43m(\u001b[49m\u001b[43mlabels\u001b[49m\u001b[43m,\u001b[49m\u001b[43m \u001b[49m\u001b[38;5;241;43m*\u001b[39;49m\u001b[38;5;241;43m*\u001b[39;49m\u001b[43moptions\u001b[49m\u001b[43m)\u001b[49m)\n\u001b[1;32m    199\u001b[0m merged \u001b[38;5;241m=\u001b[39m merge_sel_results(results)\n\u001b[1;32m    201\u001b[0m \u001b[38;5;66;03m# drop dimension coordinates found in dimension indexers\u001b[39;00m\n\u001b[1;32m    202\u001b[0m \u001b[38;5;66;03m# (also drop multi-index if any)\u001b[39;00m\n\u001b[1;32m    203\u001b[0m \u001b[38;5;66;03m# (.sel() already ensures alignment)\u001b[39;00m\n",
      "File \u001b[0;32m/g/data/xp65/public/apps/med_conda/envs/analysis3-25.09/lib/python3.11/site-packages/xarray/core/indexes.py:833\u001b[0m, in \u001b[0;36mPandasIndex.sel\u001b[0;34m(self, labels, method, tolerance)\u001b[0m\n\u001b[1;32m    830\u001b[0m coord_name, label \u001b[38;5;241m=\u001b[39m \u001b[38;5;28mnext\u001b[39m(\u001b[38;5;28miter\u001b[39m(labels\u001b[38;5;241m.\u001b[39mitems()))\n\u001b[1;32m    832\u001b[0m \u001b[38;5;28;01mif\u001b[39;00m \u001b[38;5;28misinstance\u001b[39m(label, \u001b[38;5;28mslice\u001b[39m):\n\u001b[0;32m--> 833\u001b[0m     indexer \u001b[38;5;241m=\u001b[39m \u001b[43m_query_slice\u001b[49m\u001b[43m(\u001b[49m\u001b[38;5;28;43mself\u001b[39;49m\u001b[38;5;241;43m.\u001b[39;49m\u001b[43mindex\u001b[49m\u001b[43m,\u001b[49m\u001b[43m \u001b[49m\u001b[43mlabel\u001b[49m\u001b[43m,\u001b[49m\u001b[43m \u001b[49m\u001b[43mcoord_name\u001b[49m\u001b[43m,\u001b[49m\u001b[43m \u001b[49m\u001b[43mmethod\u001b[49m\u001b[43m,\u001b[49m\u001b[43m \u001b[49m\u001b[43mtolerance\u001b[49m\u001b[43m)\u001b[49m\n\u001b[1;32m    834\u001b[0m \u001b[38;5;28;01melif\u001b[39;00m is_dict_like(label):\n\u001b[1;32m    835\u001b[0m     \u001b[38;5;28;01mraise\u001b[39;00m \u001b[38;5;167;01mValueError\u001b[39;00m(\n\u001b[1;32m    836\u001b[0m         \u001b[38;5;124m\"\u001b[39m\u001b[38;5;124mcannot use a dict-like object for selection on \u001b[39m\u001b[38;5;124m\"\u001b[39m\n\u001b[1;32m    837\u001b[0m         \u001b[38;5;124m\"\u001b[39m\u001b[38;5;124ma dimension that does not have a MultiIndex\u001b[39m\u001b[38;5;124m\"\u001b[39m\n\u001b[1;32m    838\u001b[0m     )\n",
      "File \u001b[0;32m/g/data/xp65/public/apps/med_conda/envs/analysis3-25.09/lib/python3.11/site-packages/xarray/core/indexes.py:566\u001b[0m, in \u001b[0;36m_query_slice\u001b[0;34m(index, label, coord_name, method, tolerance)\u001b[0m\n\u001b[1;32m    562\u001b[0m \u001b[38;5;28;01mif\u001b[39;00m method \u001b[38;5;129;01mis\u001b[39;00m \u001b[38;5;129;01mnot\u001b[39;00m \u001b[38;5;28;01mNone\u001b[39;00m \u001b[38;5;129;01mor\u001b[39;00m tolerance \u001b[38;5;129;01mis\u001b[39;00m \u001b[38;5;129;01mnot\u001b[39;00m \u001b[38;5;28;01mNone\u001b[39;00m:\n\u001b[1;32m    563\u001b[0m     \u001b[38;5;28;01mraise\u001b[39;00m \u001b[38;5;167;01mNotImplementedError\u001b[39;00m(\n\u001b[1;32m    564\u001b[0m         \u001b[38;5;124m\"\u001b[39m\u001b[38;5;124mcannot use ``method`` argument if any indexers are slice objects\u001b[39m\u001b[38;5;124m\"\u001b[39m\n\u001b[1;32m    565\u001b[0m     )\n\u001b[0;32m--> 566\u001b[0m indexer \u001b[38;5;241m=\u001b[39m \u001b[43mindex\u001b[49m\u001b[38;5;241;43m.\u001b[39;49m\u001b[43mslice_indexer\u001b[49m\u001b[43m(\u001b[49m\n\u001b[1;32m    567\u001b[0m \u001b[43m    \u001b[49m\u001b[43m_sanitize_slice_element\u001b[49m\u001b[43m(\u001b[49m\u001b[43mlabel\u001b[49m\u001b[38;5;241;43m.\u001b[39;49m\u001b[43mstart\u001b[49m\u001b[43m)\u001b[49m\u001b[43m,\u001b[49m\n\u001b[1;32m    568\u001b[0m \u001b[43m    \u001b[49m\u001b[43m_sanitize_slice_element\u001b[49m\u001b[43m(\u001b[49m\u001b[43mlabel\u001b[49m\u001b[38;5;241;43m.\u001b[39;49m\u001b[43mstop\u001b[49m\u001b[43m)\u001b[49m\u001b[43m,\u001b[49m\n\u001b[1;32m    569\u001b[0m \u001b[43m    \u001b[49m\u001b[43m_sanitize_slice_element\u001b[49m\u001b[43m(\u001b[49m\u001b[43mlabel\u001b[49m\u001b[38;5;241;43m.\u001b[39;49m\u001b[43mstep\u001b[49m\u001b[43m)\u001b[49m\u001b[43m,\u001b[49m\n\u001b[1;32m    570\u001b[0m \u001b[43m\u001b[49m\u001b[43m)\u001b[49m\n\u001b[1;32m    571\u001b[0m \u001b[38;5;28;01mif\u001b[39;00m \u001b[38;5;129;01mnot\u001b[39;00m \u001b[38;5;28misinstance\u001b[39m(indexer, \u001b[38;5;28mslice\u001b[39m):\n\u001b[1;32m    572\u001b[0m     \u001b[38;5;66;03m# unlike pandas, in xarray we never want to silently convert a\u001b[39;00m\n\u001b[1;32m    573\u001b[0m     \u001b[38;5;66;03m# slice indexer into an array indexer\u001b[39;00m\n\u001b[1;32m    574\u001b[0m     \u001b[38;5;28;01mraise\u001b[39;00m \u001b[38;5;167;01mKeyError\u001b[39;00m(\n\u001b[1;32m    575\u001b[0m         \u001b[38;5;124m\"\u001b[39m\u001b[38;5;124mcannot represent labeled-based slice indexer for coordinate \u001b[39m\u001b[38;5;124m\"\u001b[39m\n\u001b[1;32m    576\u001b[0m         \u001b[38;5;124mf\u001b[39m\u001b[38;5;124m\"\u001b[39m\u001b[38;5;132;01m{\u001b[39;00mcoord_name\u001b[38;5;132;01m!r}\u001b[39;00m\u001b[38;5;124m with a slice over integer positions; the index is \u001b[39m\u001b[38;5;124m\"\u001b[39m\n\u001b[1;32m    577\u001b[0m         \u001b[38;5;124m\"\u001b[39m\u001b[38;5;124munsorted or non-unique\u001b[39m\u001b[38;5;124m\"\u001b[39m\n\u001b[1;32m    578\u001b[0m     )\n",
      "File \u001b[0;32m/g/data/xp65/public/apps/med_conda/envs/analysis3-25.09/lib/python3.11/site-packages/pandas/core/indexes/base.py:6708\u001b[0m, in \u001b[0;36mIndex.slice_indexer\u001b[0;34m(self, start, end, step)\u001b[0m\n\u001b[1;32m   6664\u001b[0m \u001b[38;5;28;01mdef\u001b[39;00m\u001b[38;5;250m \u001b[39m\u001b[38;5;21mslice_indexer\u001b[39m(\n\u001b[1;32m   6665\u001b[0m     \u001b[38;5;28mself\u001b[39m,\n\u001b[1;32m   6666\u001b[0m     start: Hashable \u001b[38;5;241m|\u001b[39m \u001b[38;5;28;01mNone\u001b[39;00m \u001b[38;5;241m=\u001b[39m \u001b[38;5;28;01mNone\u001b[39;00m,\n\u001b[1;32m   6667\u001b[0m     end: Hashable \u001b[38;5;241m|\u001b[39m \u001b[38;5;28;01mNone\u001b[39;00m \u001b[38;5;241m=\u001b[39m \u001b[38;5;28;01mNone\u001b[39;00m,\n\u001b[1;32m   6668\u001b[0m     step: \u001b[38;5;28mint\u001b[39m \u001b[38;5;241m|\u001b[39m \u001b[38;5;28;01mNone\u001b[39;00m \u001b[38;5;241m=\u001b[39m \u001b[38;5;28;01mNone\u001b[39;00m,\n\u001b[1;32m   6669\u001b[0m ) \u001b[38;5;241m-\u001b[39m\u001b[38;5;241m>\u001b[39m \u001b[38;5;28mslice\u001b[39m:\n\u001b[1;32m   6670\u001b[0m \u001b[38;5;250m    \u001b[39m\u001b[38;5;124;03m\"\"\"\u001b[39;00m\n\u001b[1;32m   6671\u001b[0m \u001b[38;5;124;03m    Compute the slice indexer for input labels and step.\u001b[39;00m\n\u001b[1;32m   6672\u001b[0m \n\u001b[0;32m   (...)\u001b[0m\n\u001b[1;32m   6706\u001b[0m \u001b[38;5;124;03m    slice(1, 3, None)\u001b[39;00m\n\u001b[1;32m   6707\u001b[0m \u001b[38;5;124;03m    \"\"\"\u001b[39;00m\n\u001b[0;32m-> 6708\u001b[0m     start_slice, end_slice \u001b[38;5;241m=\u001b[39m \u001b[38;5;28;43mself\u001b[39;49m\u001b[38;5;241;43m.\u001b[39;49m\u001b[43mslice_locs\u001b[49m\u001b[43m(\u001b[49m\u001b[43mstart\u001b[49m\u001b[43m,\u001b[49m\u001b[43m \u001b[49m\u001b[43mend\u001b[49m\u001b[43m,\u001b[49m\u001b[43m \u001b[49m\u001b[43mstep\u001b[49m\u001b[38;5;241;43m=\u001b[39;49m\u001b[43mstep\u001b[49m\u001b[43m)\u001b[49m\n\u001b[1;32m   6710\u001b[0m     \u001b[38;5;66;03m# return a slice\u001b[39;00m\n\u001b[1;32m   6711\u001b[0m     \u001b[38;5;28;01mif\u001b[39;00m \u001b[38;5;129;01mnot\u001b[39;00m is_scalar(start_slice):\n",
      "File \u001b[0;32m/g/data/xp65/public/apps/med_conda/envs/analysis3-25.09/lib/python3.11/site-packages/pandas/core/indexes/base.py:6934\u001b[0m, in \u001b[0;36mIndex.slice_locs\u001b[0;34m(self, start, end, step)\u001b[0m\n\u001b[1;32m   6932\u001b[0m start_slice \u001b[38;5;241m=\u001b[39m \u001b[38;5;28;01mNone\u001b[39;00m\n\u001b[1;32m   6933\u001b[0m \u001b[38;5;28;01mif\u001b[39;00m start \u001b[38;5;129;01mis\u001b[39;00m \u001b[38;5;129;01mnot\u001b[39;00m \u001b[38;5;28;01mNone\u001b[39;00m:\n\u001b[0;32m-> 6934\u001b[0m     start_slice \u001b[38;5;241m=\u001b[39m \u001b[38;5;28;43mself\u001b[39;49m\u001b[38;5;241;43m.\u001b[39;49m\u001b[43mget_slice_bound\u001b[49m\u001b[43m(\u001b[49m\u001b[43mstart\u001b[49m\u001b[43m,\u001b[49m\u001b[43m \u001b[49m\u001b[38;5;124;43m\"\u001b[39;49m\u001b[38;5;124;43mleft\u001b[39;49m\u001b[38;5;124;43m\"\u001b[39;49m\u001b[43m)\u001b[49m\n\u001b[1;32m   6935\u001b[0m \u001b[38;5;28;01mif\u001b[39;00m start_slice \u001b[38;5;129;01mis\u001b[39;00m \u001b[38;5;28;01mNone\u001b[39;00m:\n\u001b[1;32m   6936\u001b[0m     start_slice \u001b[38;5;241m=\u001b[39m \u001b[38;5;241m0\u001b[39m\n",
      "File \u001b[0;32m/g/data/xp65/public/apps/med_conda/envs/analysis3-25.09/lib/python3.11/site-packages/pandas/core/indexes/base.py:6859\u001b[0m, in \u001b[0;36mIndex.get_slice_bound\u001b[0;34m(self, label, side)\u001b[0m\n\u001b[1;32m   6856\u001b[0m         \u001b[38;5;28;01mreturn\u001b[39;00m \u001b[38;5;28mself\u001b[39m\u001b[38;5;241m.\u001b[39m_searchsorted_monotonic(label, side)\n\u001b[1;32m   6857\u001b[0m     \u001b[38;5;28;01mexcept\u001b[39;00m \u001b[38;5;167;01mValueError\u001b[39;00m:\n\u001b[1;32m   6858\u001b[0m         \u001b[38;5;66;03m# raise the original KeyError\u001b[39;00m\n\u001b[0;32m-> 6859\u001b[0m         \u001b[38;5;28;01mraise\u001b[39;00m err\n\u001b[1;32m   6861\u001b[0m \u001b[38;5;28;01mif\u001b[39;00m \u001b[38;5;28misinstance\u001b[39m(slc, np\u001b[38;5;241m.\u001b[39mndarray):\n\u001b[1;32m   6862\u001b[0m     \u001b[38;5;66;03m# get_loc may return a boolean array, which\u001b[39;00m\n\u001b[1;32m   6863\u001b[0m     \u001b[38;5;66;03m# is OK as long as they are representable by a slice.\u001b[39;00m\n\u001b[1;32m   6864\u001b[0m     \u001b[38;5;28;01massert\u001b[39;00m is_bool_dtype(slc\u001b[38;5;241m.\u001b[39mdtype)\n",
      "File \u001b[0;32m/g/data/xp65/public/apps/med_conda/envs/analysis3-25.09/lib/python3.11/site-packages/pandas/core/indexes/base.py:6853\u001b[0m, in \u001b[0;36mIndex.get_slice_bound\u001b[0;34m(self, label, side)\u001b[0m\n\u001b[1;32m   6851\u001b[0m \u001b[38;5;66;03m# we need to look up the label\u001b[39;00m\n\u001b[1;32m   6852\u001b[0m \u001b[38;5;28;01mtry\u001b[39;00m:\n\u001b[0;32m-> 6853\u001b[0m     slc \u001b[38;5;241m=\u001b[39m \u001b[38;5;28;43mself\u001b[39;49m\u001b[38;5;241;43m.\u001b[39;49m\u001b[43mget_loc\u001b[49m\u001b[43m(\u001b[49m\u001b[43mlabel\u001b[49m\u001b[43m)\u001b[49m\n\u001b[1;32m   6854\u001b[0m \u001b[38;5;28;01mexcept\u001b[39;00m \u001b[38;5;167;01mKeyError\u001b[39;00m \u001b[38;5;28;01mas\u001b[39;00m err:\n\u001b[1;32m   6855\u001b[0m     \u001b[38;5;28;01mtry\u001b[39;00m:\n",
      "File \u001b[0;32m/g/data/xp65/public/apps/med_conda/envs/analysis3-25.09/lib/python3.11/site-packages/pandas/core/indexes/base.py:3819\u001b[0m, in \u001b[0;36mIndex.get_loc\u001b[0;34m(self, key)\u001b[0m\n\u001b[1;32m   3814\u001b[0m     \u001b[38;5;28;01mif\u001b[39;00m \u001b[38;5;28misinstance\u001b[39m(casted_key, \u001b[38;5;28mslice\u001b[39m) \u001b[38;5;129;01mor\u001b[39;00m (\n\u001b[1;32m   3815\u001b[0m         \u001b[38;5;28misinstance\u001b[39m(casted_key, abc\u001b[38;5;241m.\u001b[39mIterable)\n\u001b[1;32m   3816\u001b[0m         \u001b[38;5;129;01mand\u001b[39;00m \u001b[38;5;28many\u001b[39m(\u001b[38;5;28misinstance\u001b[39m(x, \u001b[38;5;28mslice\u001b[39m) \u001b[38;5;28;01mfor\u001b[39;00m x \u001b[38;5;129;01min\u001b[39;00m casted_key)\n\u001b[1;32m   3817\u001b[0m     ):\n\u001b[1;32m   3818\u001b[0m         \u001b[38;5;28;01mraise\u001b[39;00m InvalidIndexError(key)\n\u001b[0;32m-> 3819\u001b[0m     \u001b[38;5;28;01mraise\u001b[39;00m \u001b[38;5;167;01mKeyError\u001b[39;00m(key) \u001b[38;5;28;01mfrom\u001b[39;00m\u001b[38;5;250m \u001b[39m\u001b[38;5;21;01merr\u001b[39;00m\n\u001b[1;32m   3820\u001b[0m \u001b[38;5;28;01mexcept\u001b[39;00m \u001b[38;5;167;01mTypeError\u001b[39;00m:\n\u001b[1;32m   3821\u001b[0m     \u001b[38;5;66;03m# If we have a listlike key, _check_indexing_error will raise\u001b[39;00m\n\u001b[1;32m   3822\u001b[0m     \u001b[38;5;66;03m#  InvalidIndexError. Otherwise we fall through and re-raise\u001b[39;00m\n\u001b[1;32m   3823\u001b[0m     \u001b[38;5;66;03m#  the TypeError.\u001b[39;00m\n\u001b[1;32m   3824\u001b[0m     \u001b[38;5;28mself\u001b[39m\u001b[38;5;241m.\u001b[39m_check_indexing_error(key)\n",
      "\u001b[0;31mKeyError\u001b[0m: -90"
     ]
    }
   ],
   "source": [
    "# Year 10\n",
    "age_OM3_10yr = age_OM3.agessc.sel(yh=slice(-90,-50)).sel(time=slice('1909-01-01','1909-12-31'))\n",
    "age_OM3_10yr = age_OM3_10yr.mean('time').load()"
   ]
  },
  {
   "cell_type": "code",
   "execution_count": null,
   "id": "e7077dfe-b5b4-4722-a393-9b3748b16545",
   "metadata": {
    "papermill": {
     "duration": null,
     "end_time": null,
     "exception": null,
     "start_time": null,
     "status": "pending"
    },
    "tags": []
   },
   "outputs": [],
   "source": [
    "# Year 50\n",
    "age_OM3_50yr = age_OM3.agessc.sel(yh=slice(-90,-50)).sel(time=slice('1950-01-01','1950-12-31')) # 1950 also avail for OM2-01\n",
    "age_OM3_50yr = age_OM3_50yr.mean('time').load()"
   ]
  },
  {
   "cell_type": "code",
   "execution_count": null,
   "id": "f2bba3ff-f0d6-4899-ab6a-237a5ff5cd58",
   "metadata": {
    "papermill": {
     "duration": null,
     "end_time": null,
     "exception": null,
     "start_time": null,
     "status": "pending"
    },
    "tags": []
   },
   "outputs": [],
   "source": [
    "# Get bottom tracer\n",
    "depth_array = age_OM3_10yr * 0 + age_OM3_10yr.z_l\n",
    "max_depth   = depth_array.max(dim='z_l', skipna=True)"
   ]
  },
  {
   "cell_type": "code",
   "execution_count": null,
   "id": "f68720bf-4908-4164-97d9-b4707c28ece3",
   "metadata": {
    "papermill": {
     "duration": null,
     "end_time": null,
     "exception": null,
     "start_time": null,
     "status": "pending"
    },
    "tags": []
   },
   "outputs": [],
   "source": [
    "age_bot_10yr = age_OM3_10yr.where(depth_array.z_l >= max_depth)\n",
    "age_bot_10yr = age_bot_10yr.sum(dim='z_l').load()"
   ]
  },
  {
   "cell_type": "code",
   "execution_count": null,
   "id": "57adee5d-9692-4316-b010-bde4e7c6c810",
   "metadata": {
    "papermill": {
     "duration": null,
     "end_time": null,
     "exception": null,
     "start_time": null,
     "status": "pending"
    },
    "tags": []
   },
   "outputs": [],
   "source": [
    "age_bot_50yr = age_OM3_50yr.where(depth_array.z_l >= max_depth)\n",
    "age_bot_50yr = age_bot_50yr.sum(dim='z_l').load()"
   ]
  },
  {
   "cell_type": "markdown",
   "id": "cb52c49d-bf61-4e1b-9af3-7b79e91dc411",
   "metadata": {
    "papermill": {
     "duration": null,
     "end_time": null,
     "exception": null,
     "start_time": null,
     "status": "pending"
    },
    "tags": []
   },
   "source": [
    "Normalise age tracer by max value"
   ]
  },
  {
   "cell_type": "code",
   "execution_count": null,
   "id": "d8623b52-6861-4c61-8ed5-7b2549de1d75",
   "metadata": {
    "papermill": {
     "duration": null,
     "end_time": null,
     "exception": null,
     "start_time": null,
     "status": "pending"
    },
    "tags": []
   },
   "outputs": [],
   "source": [
    "age_bot_10yr_normalised = age_bot_10yr/age_bot_10yr.max()\n",
    "age_bot_50yr_normalised = age_bot_50yr/age_bot_50yr.max()"
   ]
  },
  {
   "cell_type": "markdown",
   "id": "fc347053-3236-4c9d-8f4f-09ea90567524",
   "metadata": {
    "papermill": {
     "duration": null,
     "end_time": null,
     "exception": null,
     "start_time": null,
     "status": "pending"
    },
    "tags": []
   },
   "source": [
    "Mask contiental shelf"
   ]
  },
  {
   "cell_type": "code",
   "execution_count": null,
   "id": "606f9ccb-dfa6-4c1d-b4a2-c2da5585bc91",
   "metadata": {
    "papermill": {
     "duration": null,
     "end_time": null,
     "exception": null,
     "start_time": null,
     "status": "pending"
    },
    "tags": []
   },
   "outputs": [],
   "source": [
    "# Load shelf mask: 1000 m isobath for OM3-25km grid, created using this notebook: Calc_OM3_25km_1000m_isobath_contour.ipynb (add to repository?)\n",
    "contour_masked_above = xr.open_mfdataset('/g/data/x77/wgh581/Post_Process/DSW_in_025_models/Antarctic_slope_contour_1000m_OM3_25km.nc').contour_masked_above\n",
    "\n",
    "shelf_mask = contour_masked_above.where(contour_masked_above==0, 1)\n",
    "shelf_mask = shelf_mask.where(shelf_mask==1)"
   ]
  },
  {
   "cell_type": "code",
   "execution_count": null,
   "id": "73656f64-c83b-42fe-9816-d629279c6c4f",
   "metadata": {
    "papermill": {
     "duration": null,
     "end_time": null,
     "exception": null,
     "start_time": null,
     "status": "pending"
    },
    "tags": []
   },
   "outputs": [],
   "source": [
    "age_bot_10yr_masked = age_bot_10yr_normalised*shelf_mask\n",
    "age_bot_50yr_masked = age_bot_50yr_normalised*shelf_mask"
   ]
  },
  {
   "cell_type": "markdown",
   "id": "d5a77cfe-26cb-47b6-826f-a863b75c6353",
   "metadata": {
    "papermill": {
     "duration": null,
     "end_time": null,
     "exception": null,
     "start_time": null,
     "status": "pending"
    },
    "tags": []
   },
   "source": [
    "### Plotting"
   ]
  },
  {
   "cell_type": "code",
   "execution_count": null,
   "id": "1f00f507-02d6-4e98-9e81-812de68f65ba",
   "metadata": {
    "papermill": {
     "duration": null,
     "end_time": null,
     "exception": null,
     "start_time": null,
     "status": "pending"
    },
    "tags": []
   },
   "outputs": [],
   "source": [
    "# Land mask\n",
    "var_search = datastore.search(variable=\"deptho\")\n",
    "ds = var_search.search(path=var_search.df.path[0]).to_dask() # we only need one file as bathymetry doesn't change\n",
    "bathymetry = ds[\"deptho\"].load()\n",
    "land = xr.where(np.isnan(bathymetry.rename(\"land\")), 1, np.nan)\n",
    "land = land.sel(yh=slice(-90,-50))\n",
    "\n",
    "ft_size = 12 # fontsize\n",
    "fig_path = '/g/data/x77/wgh581/Figures/DSW_in_025_models/'"
   ]
  },
  {
   "cell_type": "code",
   "execution_count": null,
   "id": "83a2189a-8c0d-4736-b61b-13deca176d5f",
   "metadata": {
    "papermill": {
     "duration": null,
     "end_time": null,
     "exception": null,
     "start_time": null,
     "status": "pending"
    },
    "tags": []
   },
   "outputs": [],
   "source": [
    "# 1000 m contour\n",
    "slope_contour = contour_masked_above.where(contour_masked_above>0)\n",
    "slope_contour = slope_contour/slope_contour"
   ]
  },
  {
   "cell_type": "markdown",
   "id": "b2c14861-4cb8-423b-b447-c3a88890df68",
   "metadata": {
    "papermill": {
     "duration": null,
     "end_time": null,
     "exception": null,
     "start_time": null,
     "status": "pending"
    },
    "tags": []
   },
   "source": [
    "Plot OM3-25km at years 10 and 50"
   ]
  },
  {
   "cell_type": "code",
   "execution_count": null,
   "id": "62303fe5-1ea4-4ca0-88c9-68c1bc043631",
   "metadata": {
    "papermill": {
     "duration": null,
     "end_time": null,
     "exception": null,
     "start_time": null,
     "status": "pending"
    },
    "tags": []
   },
   "outputs": [],
   "source": [
    "plt.figure(figsize=(10, 6))\n",
    "\n",
    "plt.subplot(211)\n",
    "land.plot.contourf(colors=\"darkgrey\", add_colorbar=False)\n",
    "age_bot_10yr_masked.plot(cmap=cm.cm.rain_r, vmin=0.5, vmax=1, cbar_kwargs={'label': \"Normalised bottom age\"})\n",
    "slope_contour.fillna(2).plot.contour(levels=[0,1], colors='darkgrey', linewidths=1.5)\n",
    "plt.title('ACCESS-OM3-25km'), plt.title('a', fontweight='bold', fontsize=ft_size, loc='left')\n",
    "plt.tick_params(labelbottom=False)\n",
    "plt.xlabel(''), plt.ylabel('Latitude (°N)', fontsize=ft_size)\n",
    "plt.text(-270, -79, 'Year 10', fontsize=ft_size)\n",
    "\n",
    "plt.subplot(212)\n",
    "land.plot.contourf(colors=\"darkgrey\", add_colorbar=False)\n",
    "age_bot_50yr_masked.plot(cmap=cm.cm.rain_r, vmin=0.5, vmax=1, cbar_kwargs={'label': \"Normalised bottom age\"})\n",
    "slope_contour.fillna(2).plot.contour(levels=[0,1], colors='darkgrey', linewidths=1.5)\n",
    "plt.title('b', fontweight='bold', fontsize=ft_size, loc='left')\n",
    "plt.xlabel('Longitude (°E)', fontsize=ft_size), plt.ylabel('Latitude (°N)', fontsize=ft_size)\n",
    "plt.text(-270, -79, 'Year 50', fontsize=ft_size)\n",
    "\n",
    "# Save figure\n",
    "save_flag = 1\n",
    "if save_flag == 1:\n",
    "    plt.savefig(fig_path + 'Fig_bottom_age_OM325km_yr10_yr50.png', dpi=300, bbox_inches='tight', facecolor='white');"
   ]
  },
  {
   "attachments": {},
   "cell_type": "markdown",
   "id": "9b33809c-f741-4c09-be7f-95b7387c09c0",
   "metadata": {
    "papermill": {
     "duration": null,
     "end_time": null,
     "exception": null,
     "start_time": null,
     "status": "pending"
    },
    "tags": []
   },
   "source": [
    "Things to note:\n",
    "- DSW overflow occurs mainly in the Ross Sea and also in the Weddell Sea\n",
    "- No overflow in Adelie land (see pale yellow line that interrupts the young shelf waters from the young-ish offshore waters fed by the Ross Sea)\n",
    "- Little overflow in Prydz Bay\n",
    "- The young bottom waters offshore of the Antarctic continental shelf seem to be from DSW export. Deep open ocean convection - which often occurs in 0.25deg models - does not seem to impact Antarctic Bottom Water formation in OM3-25 km. This is great news! (Compare the mixed layer depth maps which show (i) very shallow maximum winter mixed layer depths and (ii) the pattern of young offshore age tracer does not align with where there are deeper mixed layers.)"
   ]
  },
  {
   "cell_type": "markdown",
   "id": "79a410ce-108f-4c91-bb41-6fddb1818c8d",
   "metadata": {
    "papermill": {
     "duration": null,
     "end_time": null,
     "exception": null,
     "start_time": null,
     "status": "pending"
    },
    "tags": []
   },
   "source": [
    "### Compare to age tracer from OM2-01\n",
    "\n",
    "Note there is no age tracer saved for OM2-025 (only for the first three years and then from 2300 onwards). OM2-01 has good DSW overflow and AABW formation so it makes sense to compare to that simulation."
   ]
  },
  {
   "cell_type": "code",
   "execution_count": null,
   "id": "e425269e-3463-4bda-a809-93d3a8363e6f",
   "metadata": {
    "papermill": {
     "duration": null,
     "end_time": null,
     "exception": null,
     "start_time": null,
     "status": "pending"
    },
    "tags": []
   },
   "outputs": [],
   "source": [
    "catalog  = intake.cat.access_nri\n",
    "expt_01  = '01deg_jra55v13_ryf9091'\n",
    "expt_025 = '025deg_jra55_ryf9091_gadi'"
   ]
  },
  {
   "cell_type": "code",
   "execution_count": null,
   "id": "37f620f3-44c8-4a57-bd61-79616b77ebeb",
   "metadata": {
    "papermill": {
     "duration": null,
     "end_time": null,
     "exception": null,
     "start_time": null,
     "status": "pending"
    },
    "scrolled": true,
    "tags": []
   },
   "outputs": [],
   "source": [
    "age_OM2_01 = catalog[expt_01].search(variable=\"age_global\", frequency=\"1mon\").to_dask(\n",
    "    xarray_open_kwargs = dict(\n",
    "        chunks={\"yh\": -1, \"xh\": -1}, # Good for spatial operations, but not temporal\n",
    "        # chunks={\"time\": -1}, # Good for temporal operations, but not spatial\n",
    "        decode_timedelta=True\n",
    "    )\n",
    ")"
   ]
  },
  {
   "cell_type": "code",
   "execution_count": null,
   "id": "ef3dccd3-6865-47e6-bc7f-f18f0ee18704",
   "metadata": {
    "papermill": {
     "duration": null,
     "end_time": null,
     "exception": null,
     "start_time": null,
     "status": "pending"
    },
    "tags": []
   },
   "outputs": [],
   "source": [
    "# Year 50\n",
    "age_OM2_01_50yr = age_OM2_01.age_global.sel(yt_ocean=slice(-90,-50)).sel(time=slice('1950-01-01','1950-12-31'))\n",
    "age_OM2_01_50yr = age_OM2_01_50yr.mean('time').load()"
   ]
  },
  {
   "cell_type": "code",
   "execution_count": null,
   "id": "104de271-1527-4345-ba68-95f1f633e744",
   "metadata": {
    "papermill": {
     "duration": null,
     "end_time": null,
     "exception": null,
     "start_time": null,
     "status": "pending"
    },
    "tags": []
   },
   "outputs": [],
   "source": [
    "# Get bottom tracer\n",
    "depth_array_OM2_01 = age_OM2_01_50yr * 0 + age_OM2_01_50yr.st_ocean\n",
    "max_depth_OM2_01   = depth_array_OM2_01.max(dim='st_ocean', skipna=True)"
   ]
  },
  {
   "cell_type": "code",
   "execution_count": null,
   "id": "1936e224-cef6-480b-8727-1d005eda3f50",
   "metadata": {
    "papermill": {
     "duration": null,
     "end_time": null,
     "exception": null,
     "start_time": null,
     "status": "pending"
    },
    "tags": []
   },
   "outputs": [],
   "source": [
    "age_bot_OM2_01_50yr = age_OM2_01_50yr.where(depth_array_OM2_01.st_ocean >= max_depth_OM2_01)\n",
    "age_bot_OM2_01_50yr = age_bot_OM2_01_50yr.sum(dim='st_ocean').load()"
   ]
  },
  {
   "cell_type": "code",
   "execution_count": null,
   "id": "de48f733-899e-4c73-bdda-0f1c14599f51",
   "metadata": {
    "papermill": {
     "duration": null,
     "end_time": null,
     "exception": null,
     "start_time": null,
     "status": "pending"
    },
    "tags": []
   },
   "outputs": [],
   "source": [
    "# Normalise age tracer\n",
    "age_bot_OM2_01_50yr_normalised = age_bot_OM2_01_50yr/age_bot_OM2_01_50yr.max()"
   ]
  },
  {
   "cell_type": "markdown",
   "id": "92f69ea6-3d49-4337-896a-22b301b2e024",
   "metadata": {
    "papermill": {
     "duration": null,
     "end_time": null,
     "exception": null,
     "start_time": null,
     "status": "pending"
    },
    "tags": []
   },
   "source": [
    "Mask continental shelf"
   ]
  },
  {
   "cell_type": "code",
   "execution_count": null,
   "id": "b12fab67-2a24-4d0b-9779-59f146eb034e",
   "metadata": {
    "papermill": {
     "duration": null,
     "end_time": null,
     "exception": null,
     "start_time": null,
     "status": "pending"
    },
    "tags": []
   },
   "outputs": [],
   "source": [
    "contour_data  = np.load('/g/data/g40/akm157/model_data/access-om2/Antarctic_slope_contour_1000m.npz')\n",
    "contour_mask_numbered = contour_data['contour_mask_numbered']\n",
    "contour_masked_above = contour_data['contour_masked_above']\n",
    "contour_1000m = np.where(contour_mask_numbered == 0, contour_mask_numbered, 1000)\n",
    "contour_xt_ocean = contour_data['xt_ocean']\n",
    "contour_yt_ocean = contour_data['yt_ocean']"
   ]
  },
  {
   "cell_type": "code",
   "execution_count": null,
   "id": "647c06d4-e715-44a3-8354-295ce477a4c5",
   "metadata": {
    "papermill": {
     "duration": null,
     "end_time": null,
     "exception": null,
     "start_time": null,
     "status": "pending"
    },
    "tags": []
   },
   "outputs": [],
   "source": [
    "# Create dataset\n",
    "ds = xr.Dataset(\n",
    "    {\n",
    "        \"contour_1000m\": ((\"yt_ocean\", \"xt_ocean\"), contour_1000m),\n",
    "        \"contour_mask_numbered\": ((\"yt_ocean\", \"xt_ocean\"), contour_mask_numbered),\n",
    "        \"contour_masked_above\": ((\"yt_ocean\", \"xt_ocean\"), contour_masked_above),\n",
    "    },\n",
    "    coords={\n",
    "        \"xt_ocean\": contour_xt_ocean,\n",
    "        \"yt_ocean\": contour_yt_ocean,\n",
    "    },\n",
    ")"
   ]
  },
  {
   "cell_type": "code",
   "execution_count": null,
   "id": "aee45a74-fa6e-4170-b0b5-1676fe990903",
   "metadata": {
    "papermill": {
     "duration": null,
     "end_time": null,
     "exception": null,
     "start_time": null,
     "status": "pending"
    },
    "tags": []
   },
   "outputs": [],
   "source": [
    "shelf_mask_01 = ds.contour_masked_above.where(ds.contour_masked_above==0, 1)\n",
    "shelf_mask_01 = shelf_mask_01.where(shelf_mask_01==1)"
   ]
  },
  {
   "cell_type": "code",
   "execution_count": null,
   "id": "87e34ee4-887c-4558-85eb-89c6582b410a",
   "metadata": {
    "papermill": {
     "duration": null,
     "end_time": null,
     "exception": null,
     "start_time": null,
     "status": "pending"
    },
    "tags": []
   },
   "outputs": [],
   "source": [
    "age_bot_OM2_01_50yr_masked = age_bot_OM2_01_50yr_normalised*shelf_mask_01"
   ]
  },
  {
   "cell_type": "markdown",
   "id": "16b1613e-31e4-409b-bd55-380fd1978071",
   "metadata": {
    "papermill": {
     "duration": null,
     "end_time": null,
     "exception": null,
     "start_time": null,
     "status": "pending"
    },
    "tags": []
   },
   "source": [
    "Plotting"
   ]
  },
  {
   "cell_type": "code",
   "execution_count": null,
   "id": "56d1faf6-01e3-443f-babe-582736b282e4",
   "metadata": {
    "papermill": {
     "duration": null,
     "end_time": null,
     "exception": null,
     "start_time": null,
     "status": "pending"
    },
    "tags": []
   },
   "outputs": [],
   "source": [
    "plt.figure(figsize=(10, 6))\n",
    "\n",
    "plt.subplot(211)\n",
    "land.plot.contourf(colors=\"darkgrey\", add_colorbar=False)\n",
    "age_bot_50yr_masked.plot(cmap=cm.cm.rain_r, vmin=0.5, vmax=1, cbar_kwargs={'label': \"Normalised bottom age\"})\n",
    "slope_contour.fillna(2).plot.contour(levels=[0,1], colors='darkgrey', linewidths=1.5)\n",
    "plt.title('ACCESS-OM3-25km'), plt.title('a', fontweight='bold', fontsize=ft_size, loc='left')\n",
    "plt.tick_params(labelbottom=False)\n",
    "plt.xlabel(''), plt.ylabel('Latitude (°N)', fontsize=ft_size)\n",
    "plt.text(-270, -79, 'Year 50', fontsize=ft_size)\n",
    "\n",
    "plt.subplot(212)\n",
    "land.plot.contourf(colors=\"darkgrey\", add_colorbar=False)\n",
    "age_bot_OM2_01_50yr_masked.plot(cmap=cm.cm.rain_r, vmin=0.5, vmax=1, cbar_kwargs={'label': \"Normalised bottom age\"})\n",
    "slope_contour.fillna(2).plot.contour(levels=[0,1], colors='darkgrey', linewidths=1.5)\n",
    "plt.title('ACCESS-OM2-01'), plt.title('b', fontweight='bold', fontsize=ft_size, loc='left')\n",
    "plt.xlabel('Longitude (°E)', fontsize=ft_size), plt.ylabel('Latitude (°N)', fontsize=ft_size)\n",
    "plt.text(-270, -79, 'Year 50', fontsize=ft_size)\n",
    "\n",
    "# Save figure\n",
    "save_flag = 1\n",
    "if save_flag == 1:\n",
    "    plt.savefig(fig_path + 'Fig_bottom_age_OM325km_OM201_yr50.png', dpi=300, bbox_inches='tight', facecolor='white');"
   ]
  },
  {
   "cell_type": "code",
   "execution_count": null,
   "id": "9f26ffe2-e4f7-4bb7-8ea8-132334007e31",
   "metadata": {
    "papermill": {
     "duration": null,
     "end_time": null,
     "exception": null,
     "start_time": null,
     "status": "pending"
    },
    "tags": []
   },
   "outputs": [],
   "source": []
  }
 ],
 "metadata": {
  "kernelspec": {
   "display_name": "Python 3 (ipykernel)",
   "language": "python",
   "name": "python3"
  },
  "language_info": {
   "codemirror_mode": {
    "name": "ipython",
    "version": 3
   },
   "file_extension": ".py",
   "mimetype": "text/x-python",
   "name": "python",
   "nbconvert_exporter": "python",
   "pygments_lexer": "ipython3",
   "version": "3.11.13"
  },
  "papermill": {
   "default_parameters": {},
   "duration": 65.622584,
   "end_time": "2025-10-30T00:25:08.384446",
   "environment_variables": {},
   "exception": true,
   "input_path": "Bottom_age_tracer_in_ACCESS_OM3.ipynb",
   "output_path": "/g/data/tm70/cyb561/access-om3-paper-1/notebooks/mkfigs_output4/Bottom_age_tracer_in_ACCESS_OM3_rendered.ipynb",
   "parameters": {
    "esm_file": "/g/data/ol01/access-om3-output/access-om3-025/25km-iaf-test-for-AK-expt-7df5ef4c/datastore.json",
    "plotfolder": "/g/data/tm70/cyb561/access-om3-paper-1/notebooks/mkfigs_output4/"
   },
   "start_time": "2025-10-30T00:24:02.761862",
   "version": "2.6.0"
  }
 },
 "nbformat": 4,
 "nbformat_minor": 5
}
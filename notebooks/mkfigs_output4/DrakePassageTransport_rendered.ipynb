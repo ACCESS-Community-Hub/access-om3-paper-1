{
 "cells": [
  {
   "cell_type": "markdown",
   "id": "0b36f607",
   "metadata": {
    "tags": [
     "papermill-error-cell-tag"
    ]
   },
   "source": [
    "<span style=\"color:red; font-family:Helvetica Neue, Helvetica, Arial, sans-serif; font-size:2em;\">An Exception was encountered at '<a href=\"#papermill-error-cell\">In [10]</a>'.</span>"
   ]
  },
  {
   "cell_type": "markdown",
   "id": "43094360-d530-4e86-a715-a98b15931ae6",
   "metadata": {
    "papermill": {
     "duration": 0.010264,
     "end_time": "2025-10-30T00:25:22.080163",
     "exception": false,
     "start_time": "2025-10-30T00:25:22.069899",
     "status": "completed"
    },
    "tags": []
   },
   "source": [
    "# Plotting Drake Passage Transport in ACCESS-OM3\n",
    "\n",
    "This notebook uses the initial spinup simulation of ACCESS-OM3."
   ]
  },
  {
   "cell_type": "code",
   "execution_count": 1,
   "id": "4b275f0a-20a2-4c27-9ae5-d7cd99d3faf0",
   "metadata": {
    "execution": {
     "iopub.execute_input": "2025-10-30T00:25:22.095765Z",
     "iopub.status.busy": "2025-10-30T00:25:22.095593Z",
     "iopub.status.idle": "2025-10-30T00:25:22.099074Z",
     "shell.execute_reply": "2025-10-30T00:25:22.098457Z"
    },
    "papermill": {
     "duration": 0.011766,
     "end_time": "2025-10-30T00:25:22.100221",
     "exception": false,
     "start_time": "2025-10-30T00:25:22.088455",
     "status": "completed"
    },
    "tags": []
   },
   "outputs": [],
   "source": [
    "#The following cell must be in all notebooks!"
   ]
  },
  {
   "cell_type": "code",
   "execution_count": 2,
   "id": "7368897d-e2bc-4050-b835-3cf64d115147",
   "metadata": {
    "editable": true,
    "execution": {
     "iopub.execute_input": "2025-10-30T00:25:22.112881Z",
     "iopub.status.busy": "2025-10-30T00:25:22.112715Z",
     "iopub.status.idle": "2025-10-30T00:25:22.918137Z",
     "shell.execute_reply": "2025-10-30T00:25:22.917467Z"
    },
    "papermill": {
     "duration": 0.813219,
     "end_time": "2025-10-30T00:25:22.920325",
     "exception": false,
     "start_time": "2025-10-30T00:25:22.107106",
     "status": "completed"
    },
    "slideshow": {
     "slide_type": ""
    },
    "tags": [
     "parameters"
    ]
   },
   "outputs": [
    {
     "name": "stdout",
     "output_type": "stream",
     "text": [
      "ESM datastore path:  /g/data/ol01/access-om3-output/access-om3-025/MC_25km_jra_ryf-1.0-beta/experiment_datastore.json\n",
      "Plot folder path:  /g/data/tm70/cyb561/access-om3-paper-figs/\n"
     ]
    }
   ],
   "source": [
    "#parameters\n",
    "\n",
    "### USER EDIT start\n",
    "esm_file='/g/data/ol01/access-om3-output/access-om3-025/MC_25km_jra_ryf-1.0-beta/experiment_datastore.json'\n",
    "dpi=300\n",
    "### USER EDIT stop\n",
    "\n",
    "import os\n",
    "from matplotlib import rcParams\n",
    "%matplotlib inline\n",
    "rcParams['figure.dpi']= dpi\n",
    "\n",
    "plotfolder=f\"/g/data/{os.environ['PROJECT']}/{os.environ['USER']}/access-om3-paper-figs/\"\n",
    "os.makedirs(plotfolder, exist_ok=True)\n",
    "\n",
    " # a similar cell under this means it's being run in batch\n",
    "print(\"ESM datastore path: \",esm_file)\n",
    "print(\"Plot folder path: \",plotfolder)"
   ]
  },
  {
   "cell_type": "code",
   "execution_count": 3,
   "id": "ab8b9dbd",
   "metadata": {
    "execution": {
     "iopub.execute_input": "2025-10-30T00:25:22.939377Z",
     "iopub.status.busy": "2025-10-30T00:25:22.938709Z",
     "iopub.status.idle": "2025-10-30T00:25:22.944009Z",
     "shell.execute_reply": "2025-10-30T00:25:22.943024Z"
    },
    "papermill": {
     "duration": 0.015046,
     "end_time": "2025-10-30T00:25:22.945454",
     "exception": false,
     "start_time": "2025-10-30T00:25:22.930408",
     "status": "completed"
    },
    "tags": [
     "injected-parameters"
    ]
   },
   "outputs": [],
   "source": [
    "# Parameters\n",
    "esm_file = \"/g/data/ol01/access-om3-output/access-om3-025/25km-iaf-test-for-AK-expt-7df5ef4c/datastore.json\"\n",
    "plotfolder = \"/g/data/tm70/cyb561/access-om3-paper-1/notebooks/mkfigs_output4/\"\n"
   ]
  },
  {
   "cell_type": "code",
   "execution_count": 4,
   "id": "883e5ccf-5cd1-4912-a1cb-ce6e38abd727",
   "metadata": {
    "editable": true,
    "execution": {
     "iopub.execute_input": "2025-10-30T00:25:22.960366Z",
     "iopub.status.busy": "2025-10-30T00:25:22.959939Z",
     "iopub.status.idle": "2025-10-30T00:25:23.332863Z",
     "shell.execute_reply": "2025-10-30T00:25:23.332184Z"
    },
    "papermill": {
     "duration": 0.382667,
     "end_time": "2025-10-30T00:25:23.335423",
     "exception": false,
     "start_time": "2025-10-30T00:25:22.952756",
     "status": "completed"
    },
    "slideshow": {
     "slide_type": ""
    },
    "tags": []
   },
   "outputs": [],
   "source": [
    "import intake\n",
    "from dask.distributed import Client\n",
    "import matplotlib.pyplot as plt\n",
    "import cmocean as cm\n",
    "import cftime\n"
   ]
  },
  {
   "cell_type": "code",
   "execution_count": 5,
   "id": "59afc576-a4a2-4858-9138-679fac87dfef",
   "metadata": {
    "execution": {
     "iopub.execute_input": "2025-10-30T00:25:23.355154Z",
     "iopub.status.busy": "2025-10-30T00:25:23.354309Z",
     "iopub.status.idle": "2025-10-30T00:25:26.678756Z",
     "shell.execute_reply": "2025-10-30T00:25:26.677430Z"
    },
    "papermill": {
     "duration": 3.335819,
     "end_time": "2025-10-30T00:25:26.680951",
     "exception": false,
     "start_time": "2025-10-30T00:25:23.345132",
     "status": "completed"
    },
    "tags": []
   },
   "outputs": [
    {
     "name": "stdout",
     "output_type": "stream",
     "text": [
      "http://127.0.0.1:8787/status\n"
     ]
    }
   ],
   "source": [
    "client = Client(threads_per_worker=1)\n",
    "print(client.dashboard_link)"
   ]
  },
  {
   "cell_type": "markdown",
   "id": "cdc7b54e-cc26-420d-b412-da811f559250",
   "metadata": {
    "papermill": {
     "duration": 0.006824,
     "end_time": "2025-10-30T00:25:26.699363",
     "exception": false,
     "start_time": "2025-10-30T00:25:26.692539",
     "status": "completed"
    },
    "tags": []
   },
   "source": [
    "## Load ACCESS-OM3 data from ESM datastore"
   ]
  },
  {
   "cell_type": "code",
   "execution_count": 6,
   "id": "981f4e66-e61d-4f43-b446-357298589574",
   "metadata": {
    "execution": {
     "iopub.execute_input": "2025-10-30T00:25:26.712631Z",
     "iopub.status.busy": "2025-10-30T00:25:26.711235Z",
     "iopub.status.idle": "2025-10-30T00:25:29.783055Z",
     "shell.execute_reply": "2025-10-30T00:25:29.782136Z"
    },
    "papermill": {
     "duration": 3.080668,
     "end_time": "2025-10-30T00:25:29.785553",
     "exception": false,
     "start_time": "2025-10-30T00:25:26.704885",
     "status": "completed"
    },
    "tags": []
   },
   "outputs": [],
   "source": [
    "#datastore_path = \"/g/data/ol01/access-om3-output/access-om3-025/MC_25km_jra_ryf-1.0-beta/experiment_datastore.json\"\n",
    "\n",
    "datastore = intake.open_esm_datastore(\n",
    "    esm_file,\n",
    "    columns_with_iterables=[\n",
    "        \"variable\",\n",
    "        \"variable_long_name\",\n",
    "        \"variable_standard_name\",\n",
    "        \"variable_cell_methods\",\n",
    "        \"variable_units\"\n",
    "    ]\n",
    ")"
   ]
  },
  {
   "cell_type": "code",
   "execution_count": 7,
   "id": "b9414b15-f932-4816-bc1e-48ca299af802",
   "metadata": {
    "execution": {
     "iopub.execute_input": "2025-10-30T00:25:29.804516Z",
     "iopub.status.busy": "2025-10-30T00:25:29.804323Z",
     "iopub.status.idle": "2025-10-30T00:26:24.315135Z",
     "shell.execute_reply": "2025-10-30T00:26:24.313387Z"
    },
    "papermill": {
     "duration": 54.52155,
     "end_time": "2025-10-30T00:26:24.317776",
     "exception": false,
     "start_time": "2025-10-30T00:25:29.796226",
     "status": "completed"
    },
    "scrolled": true,
    "tags": []
   },
   "outputs": [
    {
     "name": "stderr",
     "output_type": "stream",
     "text": [
      "/g/data/xp65/public/apps/med_conda/envs/analysis3-25.09/lib/python3.11/site-packages/intake_esm/core.py:321: FutureWarning: When grouping with a length-1 list-like, you will need to pass a length-1 tuple to get_group in a future version of pandas. Pass `(name,)` instead of `name` to silence this warning.\n",
      "  records = grouped.get_group(internal_key).to_dict(orient='records')\n"
     ]
    }
   ],
   "source": [
    "umo_2d = datastore.search(variable=\"umo_2d\").to_dask(\n",
    "    xarray_open_kwargs = dict(\n",
    "        chunks={\"time\": -1},\n",
    "        decode_timedelta=True\n",
    "    )\n",
    ")"
   ]
  },
  {
   "cell_type": "markdown",
   "id": "74caa143-de24-4f76-86b5-61f335a3d580",
   "metadata": {
    "papermill": {
     "duration": 0.008236,
     "end_time": "2025-10-30T00:26:24.336316",
     "exception": false,
     "start_time": "2025-10-30T00:26:24.328080",
     "status": "completed"
    },
    "tags": []
   },
   "source": [
    "## Load ACCESS-OM2 data from ACCESS-NRI Catalog"
   ]
  },
  {
   "cell_type": "code",
   "execution_count": 8,
   "id": "e7aa401f-7817-49b1-b860-e8946993af05",
   "metadata": {
    "execution": {
     "iopub.execute_input": "2025-10-30T00:26:24.413232Z",
     "iopub.status.busy": "2025-10-30T00:26:24.412611Z",
     "iopub.status.idle": "2025-10-30T00:26:25.898232Z",
     "shell.execute_reply": "2025-10-30T00:26:25.897343Z"
    },
    "papermill": {
     "duration": 1.55757,
     "end_time": "2025-10-30T00:26:25.900538",
     "exception": false,
     "start_time": "2025-10-30T00:26:24.342968",
     "status": "completed"
    },
    "tags": []
   },
   "outputs": [],
   "source": [
    "catalog = intake.cat.access_nri"
   ]
  },
  {
   "cell_type": "code",
   "execution_count": 9,
   "id": "7b5ff777-b883-4af3-9d86-279eb224d99d",
   "metadata": {
    "execution": {
     "iopub.execute_input": "2025-10-30T00:26:25.919771Z",
     "iopub.status.busy": "2025-10-30T00:26:25.919592Z",
     "iopub.status.idle": "2025-10-30T00:27:14.790151Z",
     "shell.execute_reply": "2025-10-30T00:27:14.788588Z"
    },
    "papermill": {
     "duration": 48.886697,
     "end_time": "2025-10-30T00:27:14.797356",
     "exception": false,
     "start_time": "2025-10-30T00:26:25.910659",
     "status": "completed"
    },
    "tags": []
   },
   "outputs": [
    {
     "name": "stderr",
     "output_type": "stream",
     "text": [
      "/g/data/xp65/public/apps/med_conda/envs/analysis3-25.09/lib/python3.11/site-packages/intake_esm/core.py:321: FutureWarning: When grouping with a length-1 list-like, you will need to pass a length-1 tuple to get_group in a future version of pandas. Pass `(name,)` instead of `name` to silence this warning.\n",
      "  records = grouped.get_group(internal_key).to_dict(orient='records')\n"
     ]
    }
   ],
   "source": [
    "var = catalog['025deg_jra55_ryf9091_gadi'].search(variable='tx_trans_int_z',frequency=\"1mon\")\n",
    "var.esmcat.aggregation_control.groupby_attrs = ['frequency']  ## Not sure why I have to do this!!\n",
    "tx_trans_int_z=var.to_dask(\n",
    "            xarray_open_kwargs=dict(\n",
    "            chunks={\"time\": -1},\n",
    "            decode_timedelta=True,\n",
    "            use_cftime=True)\n",
    ")"
   ]
  },
  {
   "cell_type": "markdown",
   "id": "39d2c5d2-fcae-41df-bacc-adf063888f3d",
   "metadata": {
    "papermill": {
     "duration": 0.006683,
     "end_time": "2025-10-30T00:27:14.820657",
     "exception": false,
     "start_time": "2025-10-30T00:27:14.813974",
     "status": "completed"
    },
    "tags": []
   },
   "source": [
    "## Just to show the latitude I've picked ..."
   ]
  },
  {
   "cell_type": "markdown",
   "id": "944b4160",
   "metadata": {
    "tags": [
     "papermill-error-cell-tag"
    ]
   },
   "source": [
    "<span id=\"papermill-error-cell\" style=\"color:red; font-family:Helvetica Neue, Helvetica, Arial, sans-serif; font-size:2em;\">Execution using papermill encountered an exception here and stopped:</span>"
   ]
  },
  {
   "cell_type": "code",
   "execution_count": 10,
   "id": "6b101877-c956-44d6-acfb-75fd17e966c0",
   "metadata": {
    "execution": {
     "iopub.execute_input": "2025-10-30T00:27:14.834507Z",
     "iopub.status.busy": "2025-10-30T00:27:14.833929Z",
     "iopub.status.idle": "2025-10-30T00:27:17.605058Z",
     "shell.execute_reply": "2025-10-30T00:27:17.603973Z"
    },
    "papermill": {
     "duration": 2.783348,
     "end_time": "2025-10-30T00:27:17.609145",
     "exception": true,
     "start_time": "2025-10-30T00:27:14.825797",
     "status": "failed"
    },
    "tags": []
   },
   "outputs": [
    {
     "ename": "ValueError",
     "evalue": "The input coordinate is not sorted in increasing order along axis 0. This can lead to unexpected results. Consider calling the `sortby` method on the input DataArray. To plot data with categorical axes, consider using the `heatmap` function from the `seaborn` statistical plotting library.",
     "output_type": "error",
     "traceback": [
      "\u001b[0;31m---------------------------------------------------------------------------\u001b[0m",
      "\u001b[0;31mValueError\u001b[0m                                Traceback (most recent call last)",
      "Cell \u001b[0;32mIn[10], line 1\u001b[0m\n\u001b[0;32m----> 1\u001b[0m \u001b[43mumo_2d\u001b[49m\u001b[43m[\u001b[49m\u001b[38;5;124;43m\"\u001b[39;49m\u001b[38;5;124;43mumo_2d\u001b[39;49m\u001b[38;5;124;43m\"\u001b[39;49m\u001b[43m]\u001b[49m\u001b[38;5;241;43m.\u001b[39;49m\u001b[43misel\u001b[49m\u001b[43m(\u001b[49m\u001b[43mtime\u001b[49m\u001b[38;5;241;43m=\u001b[39;49m\u001b[38;5;241;43m0\u001b[39;49m\u001b[43m)\u001b[49m\u001b[38;5;241;43m.\u001b[39;49m\u001b[43mplot\u001b[49m\u001b[43m(\u001b[49m\u001b[43m)\u001b[49m\n\u001b[1;32m      2\u001b[0m plt\u001b[38;5;241m.\u001b[39mplot([\u001b[38;5;241m-\u001b[39m\u001b[38;5;241m70\u001b[39m,\u001b[38;5;241m-\u001b[39m\u001b[38;5;241m70\u001b[39m],[\u001b[38;5;241m-\u001b[39m\u001b[38;5;241m71\u001b[39m,\u001b[38;5;241m-\u001b[39m\u001b[38;5;241m54\u001b[39m])\n\u001b[1;32m      3\u001b[0m plt\u001b[38;5;241m.\u001b[39mxlim([\u001b[38;5;241m-\u001b[39m\u001b[38;5;241m100\u001b[39m,\u001b[38;5;241m-\u001b[39m\u001b[38;5;241m50\u001b[39m])\n",
      "File \u001b[0;32m/g/data/xp65/public/apps/med_conda/envs/analysis3-25.09/lib/python3.11/site-packages/xarray/plot/accessor.py:48\u001b[0m, in \u001b[0;36mDataArrayPlotAccessor.__call__\u001b[0;34m(self, **kwargs)\u001b[0m\n\u001b[1;32m     46\u001b[0m \u001b[38;5;129m@functools\u001b[39m\u001b[38;5;241m.\u001b[39mwraps(dataarray_plot\u001b[38;5;241m.\u001b[39mplot, assigned\u001b[38;5;241m=\u001b[39m(\u001b[38;5;124m\"\u001b[39m\u001b[38;5;124m__doc__\u001b[39m\u001b[38;5;124m\"\u001b[39m, \u001b[38;5;124m\"\u001b[39m\u001b[38;5;124m__annotations__\u001b[39m\u001b[38;5;124m\"\u001b[39m))\n\u001b[1;32m     47\u001b[0m \u001b[38;5;28;01mdef\u001b[39;00m\u001b[38;5;250m \u001b[39m\u001b[38;5;21m__call__\u001b[39m(\u001b[38;5;28mself\u001b[39m, \u001b[38;5;241m*\u001b[39m\u001b[38;5;241m*\u001b[39mkwargs) \u001b[38;5;241m-\u001b[39m\u001b[38;5;241m>\u001b[39m Any:\n\u001b[0;32m---> 48\u001b[0m     \u001b[38;5;28;01mreturn\u001b[39;00m \u001b[43mdataarray_plot\u001b[49m\u001b[38;5;241;43m.\u001b[39;49m\u001b[43mplot\u001b[49m\u001b[43m(\u001b[49m\u001b[38;5;28;43mself\u001b[39;49m\u001b[38;5;241;43m.\u001b[39;49m\u001b[43m_da\u001b[49m\u001b[43m,\u001b[49m\u001b[43m \u001b[49m\u001b[38;5;241;43m*\u001b[39;49m\u001b[38;5;241;43m*\u001b[39;49m\u001b[43mkwargs\u001b[49m\u001b[43m)\u001b[49m\n",
      "File \u001b[0;32m/g/data/xp65/public/apps/med_conda/envs/analysis3-25.09/lib/python3.11/site-packages/xarray/plot/dataarray_plot.py:310\u001b[0m, in \u001b[0;36mplot\u001b[0;34m(darray, row, col, col_wrap, ax, hue, subplot_kws, **kwargs)\u001b[0m\n\u001b[1;32m    306\u001b[0m     plotfunc \u001b[38;5;241m=\u001b[39m hist\n\u001b[1;32m    308\u001b[0m kwargs[\u001b[38;5;124m\"\u001b[39m\u001b[38;5;124max\u001b[39m\u001b[38;5;124m\"\u001b[39m] \u001b[38;5;241m=\u001b[39m ax\n\u001b[0;32m--> 310\u001b[0m \u001b[38;5;28;01mreturn\u001b[39;00m \u001b[43mplotfunc\u001b[49m\u001b[43m(\u001b[49m\u001b[43mdarray\u001b[49m\u001b[43m,\u001b[49m\u001b[43m \u001b[49m\u001b[38;5;241;43m*\u001b[39;49m\u001b[38;5;241;43m*\u001b[39;49m\u001b[43mkwargs\u001b[49m\u001b[43m)\u001b[49m\n",
      "File \u001b[0;32m/g/data/xp65/public/apps/med_conda/envs/analysis3-25.09/lib/python3.11/site-packages/xarray/plot/dataarray_plot.py:1606\u001b[0m, in \u001b[0;36m_plot2d.<locals>.newplotfunc\u001b[0;34m(***failed resolving arguments***)\u001b[0m\n\u001b[1;32m   1602\u001b[0m     \u001b[38;5;28;01mraise\u001b[39;00m \u001b[38;5;167;01mValueError\u001b[39;00m(\u001b[38;5;124m\"\u001b[39m\u001b[38;5;124mplt.imshow\u001b[39m\u001b[38;5;124m'\u001b[39m\u001b[38;5;124ms `aspect` kwarg is not available in xarray\u001b[39m\u001b[38;5;124m\"\u001b[39m)\n\u001b[1;32m   1604\u001b[0m ax \u001b[38;5;241m=\u001b[39m get_axis(figsize, size, aspect, ax, \u001b[38;5;241m*\u001b[39m\u001b[38;5;241m*\u001b[39msubplot_kws)\n\u001b[0;32m-> 1606\u001b[0m primitive \u001b[38;5;241m=\u001b[39m \u001b[43mplotfunc\u001b[49m\u001b[43m(\u001b[49m\n\u001b[1;32m   1607\u001b[0m \u001b[43m    \u001b[49m\u001b[43mxplt\u001b[49m\u001b[43m,\u001b[49m\n\u001b[1;32m   1608\u001b[0m \u001b[43m    \u001b[49m\u001b[43myplt\u001b[49m\u001b[43m,\u001b[49m\n\u001b[1;32m   1609\u001b[0m \u001b[43m    \u001b[49m\u001b[43mzval\u001b[49m\u001b[43m,\u001b[49m\n\u001b[1;32m   1610\u001b[0m \u001b[43m    \u001b[49m\u001b[43max\u001b[49m\u001b[38;5;241;43m=\u001b[39;49m\u001b[43max\u001b[49m\u001b[43m,\u001b[49m\n\u001b[1;32m   1611\u001b[0m \u001b[43m    \u001b[49m\u001b[43mcmap\u001b[49m\u001b[38;5;241;43m=\u001b[39;49m\u001b[43mcmap_params\u001b[49m\u001b[43m[\u001b[49m\u001b[38;5;124;43m\"\u001b[39;49m\u001b[38;5;124;43mcmap\u001b[39;49m\u001b[38;5;124;43m\"\u001b[39;49m\u001b[43m]\u001b[49m\u001b[43m,\u001b[49m\n\u001b[1;32m   1612\u001b[0m \u001b[43m    \u001b[49m\u001b[43mvmin\u001b[49m\u001b[38;5;241;43m=\u001b[39;49m\u001b[43mcmap_params\u001b[49m\u001b[43m[\u001b[49m\u001b[38;5;124;43m\"\u001b[39;49m\u001b[38;5;124;43mvmin\u001b[39;49m\u001b[38;5;124;43m\"\u001b[39;49m\u001b[43m]\u001b[49m\u001b[43m,\u001b[49m\n\u001b[1;32m   1613\u001b[0m \u001b[43m    \u001b[49m\u001b[43mvmax\u001b[49m\u001b[38;5;241;43m=\u001b[39;49m\u001b[43mcmap_params\u001b[49m\u001b[43m[\u001b[49m\u001b[38;5;124;43m\"\u001b[39;49m\u001b[38;5;124;43mvmax\u001b[39;49m\u001b[38;5;124;43m\"\u001b[39;49m\u001b[43m]\u001b[49m\u001b[43m,\u001b[49m\n\u001b[1;32m   1614\u001b[0m \u001b[43m    \u001b[49m\u001b[43mnorm\u001b[49m\u001b[38;5;241;43m=\u001b[39;49m\u001b[43mcmap_params\u001b[49m\u001b[43m[\u001b[49m\u001b[38;5;124;43m\"\u001b[39;49m\u001b[38;5;124;43mnorm\u001b[39;49m\u001b[38;5;124;43m\"\u001b[39;49m\u001b[43m]\u001b[49m\u001b[43m,\u001b[49m\n\u001b[1;32m   1615\u001b[0m \u001b[43m    \u001b[49m\u001b[38;5;241;43m*\u001b[39;49m\u001b[38;5;241;43m*\u001b[39;49m\u001b[43mkwargs\u001b[49m\u001b[43m,\u001b[49m\n\u001b[1;32m   1616\u001b[0m \u001b[43m\u001b[49m\u001b[43m)\u001b[49m\n\u001b[1;32m   1618\u001b[0m \u001b[38;5;66;03m# Label the plot with metadata\u001b[39;00m\n\u001b[1;32m   1619\u001b[0m \u001b[38;5;28;01mif\u001b[39;00m add_labels:\n",
      "File \u001b[0;32m/g/data/xp65/public/apps/med_conda/envs/analysis3-25.09/lib/python3.11/site-packages/xarray/plot/dataarray_plot.py:2308\u001b[0m, in \u001b[0;36mpcolormesh\u001b[0;34m(x, y, z, ax, xscale, yscale, infer_intervals, **kwargs)\u001b[0m\n\u001b[1;32m   2306\u001b[0m \u001b[38;5;28;01mif\u001b[39;00m infer_intervals \u001b[38;5;129;01mand\u001b[39;00m (np\u001b[38;5;241m.\u001b[39mshape(y)[\u001b[38;5;241m0\u001b[39m] \u001b[38;5;241m==\u001b[39m np\u001b[38;5;241m.\u001b[39mshape(z)[\u001b[38;5;241m0\u001b[39m]):\n\u001b[1;32m   2307\u001b[0m     \u001b[38;5;28;01mif\u001b[39;00m y\u001b[38;5;241m.\u001b[39mndim \u001b[38;5;241m==\u001b[39m \u001b[38;5;241m1\u001b[39m:\n\u001b[0;32m-> 2308\u001b[0m         y \u001b[38;5;241m=\u001b[39m \u001b[43m_infer_interval_breaks\u001b[49m\u001b[43m(\u001b[49m\u001b[43my\u001b[49m\u001b[43m,\u001b[49m\u001b[43m \u001b[49m\u001b[43mcheck_monotonic\u001b[49m\u001b[38;5;241;43m=\u001b[39;49m\u001b[38;5;28;43;01mTrue\u001b[39;49;00m\u001b[43m,\u001b[49m\u001b[43m \u001b[49m\u001b[43mscale\u001b[49m\u001b[38;5;241;43m=\u001b[39;49m\u001b[43myscale\u001b[49m\u001b[43m)\u001b[49m\n\u001b[1;32m   2309\u001b[0m     \u001b[38;5;28;01melse\u001b[39;00m:\n\u001b[1;32m   2310\u001b[0m         \u001b[38;5;66;03m# we have to infer the intervals on both axes\u001b[39;00m\n\u001b[1;32m   2311\u001b[0m         y \u001b[38;5;241m=\u001b[39m _infer_interval_breaks(y, axis\u001b[38;5;241m=\u001b[39m\u001b[38;5;241m1\u001b[39m, scale\u001b[38;5;241m=\u001b[39myscale)\n",
      "File \u001b[0;32m/g/data/xp65/public/apps/med_conda/envs/analysis3-25.09/lib/python3.11/site-packages/xarray/plot/utils.py:870\u001b[0m, in \u001b[0;36m_infer_interval_breaks\u001b[0;34m(coord, axis, scale, check_monotonic)\u001b[0m\n\u001b[1;32m    867\u001b[0m coord \u001b[38;5;241m=\u001b[39m np\u001b[38;5;241m.\u001b[39masarray(coord)\n\u001b[1;32m    869\u001b[0m \u001b[38;5;28;01mif\u001b[39;00m check_monotonic \u001b[38;5;129;01mand\u001b[39;00m \u001b[38;5;129;01mnot\u001b[39;00m _is_monotonic(coord, axis\u001b[38;5;241m=\u001b[39maxis):\n\u001b[0;32m--> 870\u001b[0m     \u001b[38;5;28;01mraise\u001b[39;00m \u001b[38;5;167;01mValueError\u001b[39;00m(\n\u001b[1;32m    871\u001b[0m         \u001b[38;5;124m\"\u001b[39m\u001b[38;5;124mThe input coordinate is not sorted in increasing \u001b[39m\u001b[38;5;124m\"\u001b[39m\n\u001b[1;32m    872\u001b[0m         \u001b[38;5;124mf\u001b[39m\u001b[38;5;124m\"\u001b[39m\u001b[38;5;124morder along axis \u001b[39m\u001b[38;5;132;01m{\u001b[39;00maxis\u001b[38;5;132;01m}\u001b[39;00m\u001b[38;5;124m. This can lead to unexpected \u001b[39m\u001b[38;5;124m\"\u001b[39m\n\u001b[1;32m    873\u001b[0m         \u001b[38;5;124m\"\u001b[39m\u001b[38;5;124mresults. Consider calling the `sortby` method on \u001b[39m\u001b[38;5;124m\"\u001b[39m\n\u001b[1;32m    874\u001b[0m         \u001b[38;5;124m\"\u001b[39m\u001b[38;5;124mthe input DataArray. To plot data with categorical \u001b[39m\u001b[38;5;124m\"\u001b[39m\n\u001b[1;32m    875\u001b[0m         \u001b[38;5;124m\"\u001b[39m\u001b[38;5;124maxes, consider using the `heatmap` function from \u001b[39m\u001b[38;5;124m\"\u001b[39m\n\u001b[1;32m    876\u001b[0m         \u001b[38;5;124m\"\u001b[39m\u001b[38;5;124mthe `seaborn` statistical plotting library.\u001b[39m\u001b[38;5;124m\"\u001b[39m\n\u001b[1;32m    877\u001b[0m     )\n\u001b[1;32m    879\u001b[0m \u001b[38;5;66;03m# If logscale, compute the intervals in the logarithmic space\u001b[39;00m\n\u001b[1;32m    880\u001b[0m \u001b[38;5;28;01mif\u001b[39;00m scale \u001b[38;5;241m==\u001b[39m \u001b[38;5;124m\"\u001b[39m\u001b[38;5;124mlog\u001b[39m\u001b[38;5;124m\"\u001b[39m:\n",
      "\u001b[0;31mValueError\u001b[0m: The input coordinate is not sorted in increasing order along axis 0. This can lead to unexpected results. Consider calling the `sortby` method on the input DataArray. To plot data with categorical axes, consider using the `heatmap` function from the `seaborn` statistical plotting library."
     ]
    },
    {
     "data": {
      "image/png": "[encoded data removed]",
      "text/plain": [
       "<Figure size 1920x1440 with 1 Axes>"
      ]
     },
     "metadata": {},
     "output_type": "display_data"
    }
   ],
   "source": [
    "umo_2d[\"umo_2d\"].isel(time=0).plot()\n",
    "plt.plot([-70,-70],[-71,-54])\n",
    "plt.xlim([-100,-50])\n",
    "plt.ylim([-80,-40])"
   ]
  },
  {
   "cell_type": "markdown",
   "id": "84a2e744-4316-4a49-bb44-d8803429c35a",
   "metadata": {
    "papermill": {
     "duration": null,
     "end_time": null,
     "exception": null,
     "start_time": null,
     "status": "pending"
    },
    "tags": []
   },
   "source": [
    "## Timeseries of DP Transport at -70°"
   ]
  },
  {
   "cell_type": "code",
   "execution_count": null,
   "id": "bfb94056-36ff-4a2e-b424-ec3197fbb8db",
   "metadata": {
    "papermill": {
     "duration": null,
     "end_time": null,
     "exception": null,
     "start_time": null,
     "status": "pending"
    },
    "tags": []
   },
   "outputs": [],
   "source": [
    "DP_Trans_OM3 = umo_2d[\"umo_2d\"].sel(xq=-70,method='nearest').sel(yh=slice(-71,-54)).sum(\"yh\").load() / 1025 / 1e6"
   ]
  },
  {
   "cell_type": "code",
   "execution_count": null,
   "id": "afb4f90b-ef04-46a3-b521-57d057dbe09c",
   "metadata": {
    "papermill": {
     "duration": null,
     "end_time": null,
     "exception": null,
     "start_time": null,
     "status": "pending"
    },
    "tags": []
   },
   "outputs": [],
   "source": [
    "DP_Trans_OM2 = tx_trans_int_z[\"tx_trans_int_z\"].sel(xu_ocean=-70,method='nearest').sel(yt_ocean=slice(-71,-54)).sum(\"yt_ocean\").sel(time=slice(cftime.datetime(1900, 1, 1,calendar='noleap'), cftime.datetime(1950, 12, 31,calendar='noleap'))).load() / 1036 / 1e6"
   ]
  },
  {
   "cell_type": "code",
   "execution_count": null,
   "id": "e766314a-9e58-4577-9e75-d638b2ec8963",
   "metadata": {
    "papermill": {
     "duration": null,
     "end_time": null,
     "exception": null,
     "start_time": null,
     "status": "pending"
    },
    "tags": []
   },
   "outputs": [],
   "source": [
    "plt.figure(figsize=(10, 5)) \n",
    "\n",
    "DP_Trans_OM2.rolling(time=12).mean().plot(label='ACCESS-OM2')\n",
    "DP_Trans_OM3.rolling(time=12).mean().plot(label='ACCESS-OM3')\n",
    "\n",
    "plt.plot([cftime.datetime(1900, 1, 1), cftime.datetime(1950, 12, 31)], [173, 173],\n",
    "           'k--', label=\"Donohue et al. (2016)\")\n",
    "\n",
    "plt.ylabel('Streamfunction (Sv)')\n",
    "plt.title('Drake Passage Transport')\n",
    "plt.legend()"
   ]
  },
  {
   "cell_type": "code",
   "execution_count": null,
   "id": "d3f3c999-d6a5-4314-b5ce-a2468d233c70",
   "metadata": {
    "papermill": {
     "duration": null,
     "end_time": null,
     "exception": null,
     "start_time": null,
     "status": "pending"
    },
    "tags": []
   },
   "outputs": [],
   "source": [
    "client.close()"
   ]
  },
  {
   "cell_type": "code",
   "execution_count": null,
   "id": "61b05ba2-cfc4-48fb-b323-431e02b62117",
   "metadata": {
    "papermill": {
     "duration": null,
     "end_time": null,
     "exception": null,
     "start_time": null,
     "status": "pending"
    },
    "tags": []
   },
   "outputs": [],
   "source": []
  }
 ],
 "metadata": {
  "kernelspec": {
   "display_name": "Python 3 (ipykernel)",
   "language": "python",
   "name": "python3"
  },
  "language_info": {
   "codemirror_mode": {
    "name": "ipython",
    "version": 3
   },
   "file_extension": ".py",
   "mimetype": "text/x-python",
   "name": "python",
   "nbconvert_exporter": "python",
   "pygments_lexer": "ipython3",
   "version": "3.11.13"
  },
  "papermill": {
   "default_parameters": {},
   "duration": 119.55299,
   "end_time": "2025-10-30T00:27:20.349561",
   "environment_variables": {},
   "exception": true,
   "input_path": "DrakePassageTransport.ipynb",
   "output_path": "/g/data/tm70/cyb561/access-om3-paper-1/notebooks/mkfigs_output4/DrakePassageTransport_rendered.ipynb",
   "parameters": {
    "esm_file": "/g/data/ol01/access-om3-output/access-om3-025/25km-iaf-test-for-AK-expt-7df5ef4c/datastore.json",
    "plotfolder": "/g/data/tm70/cyb561/access-om3-paper-1/notebooks/mkfigs_output4/"
   },
   "start_time": "2025-10-30T00:25:20.796571",
   "version": "2.6.0"
  }
 },
 "nbformat": 4,
 "nbformat_minor": 5
}
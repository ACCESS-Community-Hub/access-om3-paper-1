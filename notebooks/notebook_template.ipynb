{
 "cells": [
  {
   "cell_type": "code",
   "execution_count": 2,
   "metadata": {
    "scrolled": true
   },
   "outputs": [],
   "source": [
    "#The following cell must be in all notebooks!"
   ]
  },
  {
   "cell_type": "code",
   "execution_count": 1,
   "metadata": {},
   "outputs": [
    {
     "name": "stdout",
     "output_type": "stream",
     "text": [
      "running from a notebook directly with arguments: \n",
      "dummy input_file 12\n"
     ]
    }
   ],
   "source": [
    "### USER EDIT start\n",
    "#    TODO: update this line/argparser with appropriate arguments. Can't get the '-h' flag to work?\n",
    "#    sys.argv = ['run_nb.py', 'dummy', 'input_file', '--int_param', '12']\n",
    "### USER EDIT stop\n",
    "\n",
    "#inspired by...\n",
    "#https://stackoverflow.com/questions/37534440/passing-command-line-arguments-to-argv-in-jupyter-ipython-notebook\n",
    "import sys,os,argparse\n",
    "from IPython.display import HTML\n",
    "CONFIG_FILE = 'config_ipynb_tmp'\n",
    "\n",
    "if os.path.isfile(CONFIG_FILE):\n",
    "    with open(CONFIG_FILE) as f:\n",
    "        sys.argv = f.read().split()\n",
    "        fromscript=True\n",
    "else:\n",
    "    sys.argv = ['run_nb.py', 'dummy', 'input_file', '--int_param', '12']\n",
    "    fromscript=False\n",
    "\n",
    "parser = argparse.ArgumentParser()\n",
    "parser.add_argument(\"scriptname\",help=\"script name.\")\n",
    "parser.add_argument(\"input_file\",help=\"Input image, directory, or npy.\")\n",
    "parser.add_argument(\"--int_param\", type=int, default=4, help=\"an optional integer parameter.\")\n",
    "args = parser.parse_args()\n",
    "if fromscript:\n",
    "    print(\"running from a script with arguments: \")\n",
    "else: \n",
    "    print(\"running from a notebook directly with arguments: \")\n",
    "print(args.scriptname,args.input_file,args.int_param)"
   ]
  },
  {
   "cell_type": "code",
   "execution_count": null,
   "metadata": {
    "collapsed": true,
    "jupyter": {
     "outputs_hidden": true
    }
   },
   "outputs": [],
   "source": []
  }
 ],
 "metadata": {
  "kernelspec": {
   "display_name": "Python 3 (ipykernel)",
   "language": "python",
   "name": "python3"
  },
  "language_info": {
   "codemirror_mode": {
    "name": "ipython",
    "version": 3
   },
   "file_extension": ".py",
   "mimetype": "text/x-python",
   "name": "python",
   "nbconvert_exporter": "python",
   "pygments_lexer": "ipython3",
   "version": "3.11.11"
  }
 },
 "nbformat": 4,
 "nbformat_minor": 4
}

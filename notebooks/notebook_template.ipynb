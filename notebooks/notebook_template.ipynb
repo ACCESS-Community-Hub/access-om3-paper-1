{
 "cells": [
  {
   "cell_type": "code",
   "execution_count": 2,
   "metadata": {
    "scrolled": true
   },
   "outputs": [],
   "source": [
    "#The following cell must be in all notebooks!"
   ]
  },
  {
   "cell_type": "code",
   "execution_count": 5,
   "metadata": {},
   "outputs": [
    {
     "name": "stdout",
     "output_type": "stream",
     "text": [
      "running from a notebook directly with arguments: \n",
      "dummy /g/data/ol01/access-om3-output/access-om3-025/MC_25km_jra_ryf-1.0-beta/experiment_datastore.json /new_random_path/\n"
     ]
    }
   ],
   "source": [
    "### USER EDIT start\n",
    "esm_file='/g/data/ol01/access-om3-output/access-om3-025/MC_25km_jra_ryf-1.0-beta/experiment_datastore.json'\n",
    "plotfolder='/new_random_path/'\n",
    "### USER EDIT stop\n",
    "\n",
    "#inspired by...\n",
    "#https://stackoverflow.com/questions/37534440/passing-command-line-arguments-to-argv-in-jupyter-ipython-notebook\n",
    "import sys,os,argparse\n",
    "from IPython.display import HTML\n",
    "CONFIG_FILE = 'config_ipynb_tmp'\n",
    "\n",
    "if os.path.isfile(CONFIG_FILE):\n",
    "    with open(CONFIG_FILE) as f:\n",
    "        sys.argv = f.read().split()\n",
    "        fromscript=True\n",
    "else:\n",
    "    sys.argv = ['run_nb.py', 'dummy', esm_file, '--plotfolder', plotfolder]\n",
    "    fromscript=False\n",
    "\n",
    "parser = argparse.ArgumentParser()\n",
    "parser.add_argument(\"scriptname\",help=\"script name.\")\n",
    "parser.add_argument(\"esm_file\",help=\"intake esm datastore, will be .json file.\")\n",
    "parser.add_argument(\"--plotfolder\",help=\"an optional path to put plots into.\")\n",
    "args = parser.parse_args()\n",
    "if fromscript:\n",
    "    print(\"running from a script with arguments: \")\n",
    "else: \n",
    "    print(\"running from a notebook directly with arguments: \")\n",
    "print(args.scriptname,args.esm_file,args.plotfolder)"
   ]
  },
  {
   "cell_type": "code",
   "execution_count": null,
   "metadata": {
    "collapsed": true,
    "jupyter": {
     "outputs_hidden": true
    }
   },
   "outputs": [],
   "source": []
  },
  {
   "cell_type": "code",
   "execution_count": null,
   "metadata": {},
   "outputs": [],
   "source": []
  }
 ],
 "metadata": {
  "kernelspec": {
   "display_name": "Python [conda env:analysis3-25.07] *",
   "language": "python",
   "name": "conda-env-analysis3-25.07-py"
  },
  "language_info": {
   "codemirror_mode": {
    "name": "ipython",
    "version": 3
   },
   "file_extension": ".py",
   "mimetype": "text/x-python",
   "name": "python",
   "nbconvert_exporter": "python",
   "pygments_lexer": "ipython3",
   "version": "3.11.13"
  }
 },
 "nbformat": 4,
 "nbformat_minor": 4
}
